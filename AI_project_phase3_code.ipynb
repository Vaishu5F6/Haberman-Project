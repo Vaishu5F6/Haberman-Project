{
  "cells": [
    {
      "cell_type": "markdown",
      "id": "1ba12fb9",
      "metadata": {
        "papermill": {
          "duration": 0.037614,
          "end_time": "2021-07-11T16:45:59.328320",
          "exception": false,
          "start_time": "2021-07-11T16:45:59.290706",
          "status": "completed"
        },
        "tags": [],
        "id": "1ba12fb9"
      },
      "source": [
        "# PROJECT USING HABERMAN'S SURVIVAL DATASET\n",
        "The dataset contains cases ranging from 1958-1970 from a study conducted at University of Chicago's Billings Hospital on the survival of patients who had undergone surgery for breast cancer."
      ]
    },
    {
      "cell_type": "markdown",
      "id": "d78cd10c",
      "metadata": {
        "papermill": {
          "duration": 0.038655,
          "end_time": "2021-07-11T16:45:59.405628",
          "exception": false,
          "start_time": "2021-07-11T16:45:59.366973",
          "status": "completed"
        },
        "tags": [],
        "id": "d78cd10c"
      },
      "source": [
        "### Importing required libraries"
      ]
    },
    {
      "cell_type": "code",
      "execution_count": 1,
      "id": "c415ad43",
      "metadata": {
        "execution": {
          "iopub.execute_input": "2021-07-11T16:45:59.488352Z",
          "iopub.status.busy": "2021-07-11T16:45:59.487544Z",
          "iopub.status.idle": "2021-07-11T16:46:00.519341Z",
          "shell.execute_reply": "2021-07-11T16:46:00.518599Z",
          "shell.execute_reply.started": "2021-07-11T15:20:39.139540Z"
        },
        "papermill": {
          "duration": 1.07477,
          "end_time": "2021-07-11T16:46:00.519501",
          "exception": false,
          "start_time": "2021-07-11T16:45:59.444731",
          "status": "completed"
        },
        "tags": [],
        "id": "c415ad43"
      },
      "outputs": [],
      "source": [
        "import pandas as pnd\n",
        "import matplotlib.pyplot as pltlb\n",
        "import seaborn as sns"
      ]
    },
    {
      "cell_type": "code",
      "execution_count": 2,
      "id": "8fea5323",
      "metadata": {
        "execution": {
          "iopub.execute_input": "2021-07-11T16:46:00.597222Z",
          "iopub.status.busy": "2021-07-11T16:46:00.596229Z",
          "iopub.status.idle": "2021-07-11T16:46:00.617333Z",
          "shell.execute_reply": "2021-07-11T16:46:00.615991Z",
          "shell.execute_reply.started": "2021-07-11T15:21:32.970728Z"
        },
        "papermill": {
          "duration": 0.060873,
          "end_time": "2021-07-11T16:46:00.617492",
          "exception": false,
          "start_time": "2021-07-11T16:46:00.556619",
          "status": "completed"
        },
        "tags": [],
        "colab": {
          "base_uri": "https://localhost:8080/",
          "height": 206
        },
        "id": "8fea5323",
        "outputId": "31d80f18-a8d6-4b66-98a0-47c98a8ed22f"
      },
      "outputs": [
        {
          "output_type": "execute_result",
          "data": {
            "text/plain": [
              "   Age  Op_Year  axil_nodes  Surv_status\n",
              "0   30       64           1            1\n",
              "1   30       62           3            1\n",
              "2   30       65           0            1\n",
              "3   31       59           2            1\n",
              "4   31       65           4            1"
            ],
            "text/html": [
              "\n",
              "  <div id=\"df-abba53fd-d429-46d2-8ddf-7a7066b1f626\" class=\"colab-df-container\">\n",
              "    <div>\n",
              "<style scoped>\n",
              "    .dataframe tbody tr th:only-of-type {\n",
              "        vertical-align: middle;\n",
              "    }\n",
              "\n",
              "    .dataframe tbody tr th {\n",
              "        vertical-align: top;\n",
              "    }\n",
              "\n",
              "    .dataframe thead th {\n",
              "        text-align: right;\n",
              "    }\n",
              "</style>\n",
              "<table border=\"1\" class=\"dataframe\">\n",
              "  <thead>\n",
              "    <tr style=\"text-align: right;\">\n",
              "      <th></th>\n",
              "      <th>Age</th>\n",
              "      <th>Op_Year</th>\n",
              "      <th>axil_nodes</th>\n",
              "      <th>Surv_status</th>\n",
              "    </tr>\n",
              "  </thead>\n",
              "  <tbody>\n",
              "    <tr>\n",
              "      <th>0</th>\n",
              "      <td>30</td>\n",
              "      <td>64</td>\n",
              "      <td>1</td>\n",
              "      <td>1</td>\n",
              "    </tr>\n",
              "    <tr>\n",
              "      <th>1</th>\n",
              "      <td>30</td>\n",
              "      <td>62</td>\n",
              "      <td>3</td>\n",
              "      <td>1</td>\n",
              "    </tr>\n",
              "    <tr>\n",
              "      <th>2</th>\n",
              "      <td>30</td>\n",
              "      <td>65</td>\n",
              "      <td>0</td>\n",
              "      <td>1</td>\n",
              "    </tr>\n",
              "    <tr>\n",
              "      <th>3</th>\n",
              "      <td>31</td>\n",
              "      <td>59</td>\n",
              "      <td>2</td>\n",
              "      <td>1</td>\n",
              "    </tr>\n",
              "    <tr>\n",
              "      <th>4</th>\n",
              "      <td>31</td>\n",
              "      <td>65</td>\n",
              "      <td>4</td>\n",
              "      <td>1</td>\n",
              "    </tr>\n",
              "  </tbody>\n",
              "</table>\n",
              "</div>\n",
              "    <div class=\"colab-df-buttons\">\n",
              "\n",
              "  <div class=\"colab-df-container\">\n",
              "    <button class=\"colab-df-convert\" onclick=\"convertToInteractive('df-abba53fd-d429-46d2-8ddf-7a7066b1f626')\"\n",
              "            title=\"Convert this dataframe to an interactive table.\"\n",
              "            style=\"display:none;\">\n",
              "\n",
              "  <svg xmlns=\"http://www.w3.org/2000/svg\" height=\"24px\" viewBox=\"0 -960 960 960\">\n",
              "    <path d=\"M120-120v-720h720v720H120Zm60-500h600v-160H180v160Zm220 220h160v-160H400v160Zm0 220h160v-160H400v160ZM180-400h160v-160H180v160Zm440 0h160v-160H620v160ZM180-180h160v-160H180v160Zm440 0h160v-160H620v160Z\"/>\n",
              "  </svg>\n",
              "    </button>\n",
              "\n",
              "  <style>\n",
              "    .colab-df-container {\n",
              "      display:flex;\n",
              "      gap: 12px;\n",
              "    }\n",
              "\n",
              "    .colab-df-convert {\n",
              "      background-color: #E8F0FE;\n",
              "      border: none;\n",
              "      border-radius: 50%;\n",
              "      cursor: pointer;\n",
              "      display: none;\n",
              "      fill: #1967D2;\n",
              "      height: 32px;\n",
              "      padding: 0 0 0 0;\n",
              "      width: 32px;\n",
              "    }\n",
              "\n",
              "    .colab-df-convert:hover {\n",
              "      background-color: #E2EBFA;\n",
              "      box-shadow: 0px 1px 2px rgba(60, 64, 67, 0.3), 0px 1px 3px 1px rgba(60, 64, 67, 0.15);\n",
              "      fill: #174EA6;\n",
              "    }\n",
              "\n",
              "    .colab-df-buttons div {\n",
              "      margin-bottom: 4px;\n",
              "    }\n",
              "\n",
              "    [theme=dark] .colab-df-convert {\n",
              "      background-color: #3B4455;\n",
              "      fill: #D2E3FC;\n",
              "    }\n",
              "\n",
              "    [theme=dark] .colab-df-convert:hover {\n",
              "      background-color: #434B5C;\n",
              "      box-shadow: 0px 1px 3px 1px rgba(0, 0, 0, 0.15);\n",
              "      filter: drop-shadow(0px 1px 2px rgba(0, 0, 0, 0.3));\n",
              "      fill: #FFFFFF;\n",
              "    }\n",
              "  </style>\n",
              "\n",
              "    <script>\n",
              "      const buttonEl =\n",
              "        document.querySelector('#df-abba53fd-d429-46d2-8ddf-7a7066b1f626 button.colab-df-convert');\n",
              "      buttonEl.style.display =\n",
              "        google.colab.kernel.accessAllowed ? 'block' : 'none';\n",
              "\n",
              "      async function convertToInteractive(key) {\n",
              "        const element = document.querySelector('#df-abba53fd-d429-46d2-8ddf-7a7066b1f626');\n",
              "        const dataTable =\n",
              "          await google.colab.kernel.invokeFunction('convertToInteractive',\n",
              "                                                    [key], {});\n",
              "        if (!dataTable) return;\n",
              "\n",
              "        const docLinkHtml = 'Like what you see? Visit the ' +\n",
              "          '<a target=\"_blank\" href=https://colab.research.google.com/notebooks/data_table.ipynb>data table notebook</a>'\n",
              "          + ' to learn more about interactive tables.';\n",
              "        element.innerHTML = '';\n",
              "        dataTable['output_type'] = 'display_data';\n",
              "        await google.colab.output.renderOutput(dataTable, element);\n",
              "        const docLink = document.createElement('div');\n",
              "        docLink.innerHTML = docLinkHtml;\n",
              "        element.appendChild(docLink);\n",
              "      }\n",
              "    </script>\n",
              "  </div>\n",
              "\n",
              "\n",
              "<div id=\"df-913e351b-11a6-4384-9a6b-950cf278c770\">\n",
              "  <button class=\"colab-df-quickchart\" onclick=\"quickchart('df-913e351b-11a6-4384-9a6b-950cf278c770')\"\n",
              "            title=\"Suggest charts\"\n",
              "            style=\"display:none;\">\n",
              "\n",
              "<svg xmlns=\"http://www.w3.org/2000/svg\" height=\"24px\"viewBox=\"0 0 24 24\"\n",
              "     width=\"24px\">\n",
              "    <g>\n",
              "        <path d=\"M19 3H5c-1.1 0-2 .9-2 2v14c0 1.1.9 2 2 2h14c1.1 0 2-.9 2-2V5c0-1.1-.9-2-2-2zM9 17H7v-7h2v7zm4 0h-2V7h2v10zm4 0h-2v-4h2v4z\"/>\n",
              "    </g>\n",
              "</svg>\n",
              "  </button>\n",
              "\n",
              "<style>\n",
              "  .colab-df-quickchart {\n",
              "      --bg-color: #E8F0FE;\n",
              "      --fill-color: #1967D2;\n",
              "      --hover-bg-color: #E2EBFA;\n",
              "      --hover-fill-color: #174EA6;\n",
              "      --disabled-fill-color: #AAA;\n",
              "      --disabled-bg-color: #DDD;\n",
              "  }\n",
              "\n",
              "  [theme=dark] .colab-df-quickchart {\n",
              "      --bg-color: #3B4455;\n",
              "      --fill-color: #D2E3FC;\n",
              "      --hover-bg-color: #434B5C;\n",
              "      --hover-fill-color: #FFFFFF;\n",
              "      --disabled-bg-color: #3B4455;\n",
              "      --disabled-fill-color: #666;\n",
              "  }\n",
              "\n",
              "  .colab-df-quickchart {\n",
              "    background-color: var(--bg-color);\n",
              "    border: none;\n",
              "    border-radius: 50%;\n",
              "    cursor: pointer;\n",
              "    display: none;\n",
              "    fill: var(--fill-color);\n",
              "    height: 32px;\n",
              "    padding: 0;\n",
              "    width: 32px;\n",
              "  }\n",
              "\n",
              "  .colab-df-quickchart:hover {\n",
              "    background-color: var(--hover-bg-color);\n",
              "    box-shadow: 0 1px 2px rgba(60, 64, 67, 0.3), 0 1px 3px 1px rgba(60, 64, 67, 0.15);\n",
              "    fill: var(--button-hover-fill-color);\n",
              "  }\n",
              "\n",
              "  .colab-df-quickchart-complete:disabled,\n",
              "  .colab-df-quickchart-complete:disabled:hover {\n",
              "    background-color: var(--disabled-bg-color);\n",
              "    fill: var(--disabled-fill-color);\n",
              "    box-shadow: none;\n",
              "  }\n",
              "\n",
              "  .colab-df-spinner {\n",
              "    border: 2px solid var(--fill-color);\n",
              "    border-color: transparent;\n",
              "    border-bottom-color: var(--fill-color);\n",
              "    animation:\n",
              "      spin 1s steps(1) infinite;\n",
              "  }\n",
              "\n",
              "  @keyframes spin {\n",
              "    0% {\n",
              "      border-color: transparent;\n",
              "      border-bottom-color: var(--fill-color);\n",
              "      border-left-color: var(--fill-color);\n",
              "    }\n",
              "    20% {\n",
              "      border-color: transparent;\n",
              "      border-left-color: var(--fill-color);\n",
              "      border-top-color: var(--fill-color);\n",
              "    }\n",
              "    30% {\n",
              "      border-color: transparent;\n",
              "      border-left-color: var(--fill-color);\n",
              "      border-top-color: var(--fill-color);\n",
              "      border-right-color: var(--fill-color);\n",
              "    }\n",
              "    40% {\n",
              "      border-color: transparent;\n",
              "      border-right-color: var(--fill-color);\n",
              "      border-top-color: var(--fill-color);\n",
              "    }\n",
              "    60% {\n",
              "      border-color: transparent;\n",
              "      border-right-color: var(--fill-color);\n",
              "    }\n",
              "    80% {\n",
              "      border-color: transparent;\n",
              "      border-right-color: var(--fill-color);\n",
              "      border-bottom-color: var(--fill-color);\n",
              "    }\n",
              "    90% {\n",
              "      border-color: transparent;\n",
              "      border-bottom-color: var(--fill-color);\n",
              "    }\n",
              "  }\n",
              "</style>\n",
              "\n",
              "  <script>\n",
              "    async function quickchart(key) {\n",
              "      const quickchartButtonEl =\n",
              "        document.querySelector('#' + key + ' button');\n",
              "      quickchartButtonEl.disabled = true;  // To prevent multiple clicks.\n",
              "      quickchartButtonEl.classList.add('colab-df-spinner');\n",
              "      try {\n",
              "        const charts = await google.colab.kernel.invokeFunction(\n",
              "            'suggestCharts', [key], {});\n",
              "      } catch (error) {\n",
              "        console.error('Error during call to suggestCharts:', error);\n",
              "      }\n",
              "      quickchartButtonEl.classList.remove('colab-df-spinner');\n",
              "      quickchartButtonEl.classList.add('colab-df-quickchart-complete');\n",
              "    }\n",
              "    (() => {\n",
              "      let quickchartButtonEl =\n",
              "        document.querySelector('#df-913e351b-11a6-4384-9a6b-950cf278c770 button');\n",
              "      quickchartButtonEl.style.display =\n",
              "        google.colab.kernel.accessAllowed ? 'block' : 'none';\n",
              "    })();\n",
              "  </script>\n",
              "</div>\n",
              "    </div>\n",
              "  </div>\n"
            ]
          },
          "metadata": {},
          "execution_count": 2
        }
      ],
      "source": [
        "columns = ['Age', 'Op_Year', 'axil_nodes', 'Surv_status']\n",
        "url = 'https://raw.githubusercontent.com/Vaishu5F6/Haberman-Project/main/haberman.csv'\n",
        "df = pnd.read_csv(url, header=None, names=columns)\n",
        "df.head()"
      ]
    },
    {
      "cell_type": "code",
      "execution_count": 3,
      "id": "963e4834",
      "metadata": {
        "execution": {
          "iopub.execute_input": "2021-07-11T16:46:00.702455Z",
          "iopub.status.busy": "2021-07-11T16:46:00.701517Z",
          "iopub.status.idle": "2021-07-11T16:46:00.718297Z",
          "shell.execute_reply": "2021-07-11T16:46:00.718905Z",
          "shell.execute_reply.started": "2021-07-11T15:21:57.748705Z"
        },
        "papermill": {
          "duration": 0.06478,
          "end_time": "2021-07-11T16:46:00.719124",
          "exception": false,
          "start_time": "2021-07-11T16:46:00.654344",
          "status": "completed"
        },
        "tags": [],
        "colab": {
          "base_uri": "https://localhost:8080/",
          "height": 206
        },
        "id": "963e4834",
        "outputId": "640d852b-b826-4188-b7c6-6320ff5cba4a"
      },
      "outputs": [
        {
          "output_type": "execute_result",
          "data": {
            "text/plain": [
              "   Age  Op_Year  axil_nodes  Surv_status\n",
              "0   30       64           1            1\n",
              "1   30       62           3            1\n",
              "2   30       65           0            1\n",
              "3   31       59           2            1\n",
              "4   31       65           4            1"
            ],
            "text/html": [
              "\n",
              "  <div id=\"df-3a71e7c6-cad1-4e12-bd26-a3e88ac8f682\" class=\"colab-df-container\">\n",
              "    <div>\n",
              "<style scoped>\n",
              "    .dataframe tbody tr th:only-of-type {\n",
              "        vertical-align: middle;\n",
              "    }\n",
              "\n",
              "    .dataframe tbody tr th {\n",
              "        vertical-align: top;\n",
              "    }\n",
              "\n",
              "    .dataframe thead th {\n",
              "        text-align: right;\n",
              "    }\n",
              "</style>\n",
              "<table border=\"1\" class=\"dataframe\">\n",
              "  <thead>\n",
              "    <tr style=\"text-align: right;\">\n",
              "      <th></th>\n",
              "      <th>Age</th>\n",
              "      <th>Op_Year</th>\n",
              "      <th>axil_nodes</th>\n",
              "      <th>Surv_status</th>\n",
              "    </tr>\n",
              "  </thead>\n",
              "  <tbody>\n",
              "    <tr>\n",
              "      <th>0</th>\n",
              "      <td>30</td>\n",
              "      <td>64</td>\n",
              "      <td>1</td>\n",
              "      <td>1</td>\n",
              "    </tr>\n",
              "    <tr>\n",
              "      <th>1</th>\n",
              "      <td>30</td>\n",
              "      <td>62</td>\n",
              "      <td>3</td>\n",
              "      <td>1</td>\n",
              "    </tr>\n",
              "    <tr>\n",
              "      <th>2</th>\n",
              "      <td>30</td>\n",
              "      <td>65</td>\n",
              "      <td>0</td>\n",
              "      <td>1</td>\n",
              "    </tr>\n",
              "    <tr>\n",
              "      <th>3</th>\n",
              "      <td>31</td>\n",
              "      <td>59</td>\n",
              "      <td>2</td>\n",
              "      <td>1</td>\n",
              "    </tr>\n",
              "    <tr>\n",
              "      <th>4</th>\n",
              "      <td>31</td>\n",
              "      <td>65</td>\n",
              "      <td>4</td>\n",
              "      <td>1</td>\n",
              "    </tr>\n",
              "  </tbody>\n",
              "</table>\n",
              "</div>\n",
              "    <div class=\"colab-df-buttons\">\n",
              "\n",
              "  <div class=\"colab-df-container\">\n",
              "    <button class=\"colab-df-convert\" onclick=\"convertToInteractive('df-3a71e7c6-cad1-4e12-bd26-a3e88ac8f682')\"\n",
              "            title=\"Convert this dataframe to an interactive table.\"\n",
              "            style=\"display:none;\">\n",
              "\n",
              "  <svg xmlns=\"http://www.w3.org/2000/svg\" height=\"24px\" viewBox=\"0 -960 960 960\">\n",
              "    <path d=\"M120-120v-720h720v720H120Zm60-500h600v-160H180v160Zm220 220h160v-160H400v160Zm0 220h160v-160H400v160ZM180-400h160v-160H180v160Zm440 0h160v-160H620v160ZM180-180h160v-160H180v160Zm440 0h160v-160H620v160Z\"/>\n",
              "  </svg>\n",
              "    </button>\n",
              "\n",
              "  <style>\n",
              "    .colab-df-container {\n",
              "      display:flex;\n",
              "      gap: 12px;\n",
              "    }\n",
              "\n",
              "    .colab-df-convert {\n",
              "      background-color: #E8F0FE;\n",
              "      border: none;\n",
              "      border-radius: 50%;\n",
              "      cursor: pointer;\n",
              "      display: none;\n",
              "      fill: #1967D2;\n",
              "      height: 32px;\n",
              "      padding: 0 0 0 0;\n",
              "      width: 32px;\n",
              "    }\n",
              "\n",
              "    .colab-df-convert:hover {\n",
              "      background-color: #E2EBFA;\n",
              "      box-shadow: 0px 1px 2px rgba(60, 64, 67, 0.3), 0px 1px 3px 1px rgba(60, 64, 67, 0.15);\n",
              "      fill: #174EA6;\n",
              "    }\n",
              "\n",
              "    .colab-df-buttons div {\n",
              "      margin-bottom: 4px;\n",
              "    }\n",
              "\n",
              "    [theme=dark] .colab-df-convert {\n",
              "      background-color: #3B4455;\n",
              "      fill: #D2E3FC;\n",
              "    }\n",
              "\n",
              "    [theme=dark] .colab-df-convert:hover {\n",
              "      background-color: #434B5C;\n",
              "      box-shadow: 0px 1px 3px 1px rgba(0, 0, 0, 0.15);\n",
              "      filter: drop-shadow(0px 1px 2px rgba(0, 0, 0, 0.3));\n",
              "      fill: #FFFFFF;\n",
              "    }\n",
              "  </style>\n",
              "\n",
              "    <script>\n",
              "      const buttonEl =\n",
              "        document.querySelector('#df-3a71e7c6-cad1-4e12-bd26-a3e88ac8f682 button.colab-df-convert');\n",
              "      buttonEl.style.display =\n",
              "        google.colab.kernel.accessAllowed ? 'block' : 'none';\n",
              "\n",
              "      async function convertToInteractive(key) {\n",
              "        const element = document.querySelector('#df-3a71e7c6-cad1-4e12-bd26-a3e88ac8f682');\n",
              "        const dataTable =\n",
              "          await google.colab.kernel.invokeFunction('convertToInteractive',\n",
              "                                                    [key], {});\n",
              "        if (!dataTable) return;\n",
              "\n",
              "        const docLinkHtml = 'Like what you see? Visit the ' +\n",
              "          '<a target=\"_blank\" href=https://colab.research.google.com/notebooks/data_table.ipynb>data table notebook</a>'\n",
              "          + ' to learn more about interactive tables.';\n",
              "        element.innerHTML = '';\n",
              "        dataTable['output_type'] = 'display_data';\n",
              "        await google.colab.output.renderOutput(dataTable, element);\n",
              "        const docLink = document.createElement('div');\n",
              "        docLink.innerHTML = docLinkHtml;\n",
              "        element.appendChild(docLink);\n",
              "      }\n",
              "    </script>\n",
              "  </div>\n",
              "\n",
              "\n",
              "<div id=\"df-88b71ce4-6cc3-4a9b-bb9f-5da1509ad096\">\n",
              "  <button class=\"colab-df-quickchart\" onclick=\"quickchart('df-88b71ce4-6cc3-4a9b-bb9f-5da1509ad096')\"\n",
              "            title=\"Suggest charts\"\n",
              "            style=\"display:none;\">\n",
              "\n",
              "<svg xmlns=\"http://www.w3.org/2000/svg\" height=\"24px\"viewBox=\"0 0 24 24\"\n",
              "     width=\"24px\">\n",
              "    <g>\n",
              "        <path d=\"M19 3H5c-1.1 0-2 .9-2 2v14c0 1.1.9 2 2 2h14c1.1 0 2-.9 2-2V5c0-1.1-.9-2-2-2zM9 17H7v-7h2v7zm4 0h-2V7h2v10zm4 0h-2v-4h2v4z\"/>\n",
              "    </g>\n",
              "</svg>\n",
              "  </button>\n",
              "\n",
              "<style>\n",
              "  .colab-df-quickchart {\n",
              "      --bg-color: #E8F0FE;\n",
              "      --fill-color: #1967D2;\n",
              "      --hover-bg-color: #E2EBFA;\n",
              "      --hover-fill-color: #174EA6;\n",
              "      --disabled-fill-color: #AAA;\n",
              "      --disabled-bg-color: #DDD;\n",
              "  }\n",
              "\n",
              "  [theme=dark] .colab-df-quickchart {\n",
              "      --bg-color: #3B4455;\n",
              "      --fill-color: #D2E3FC;\n",
              "      --hover-bg-color: #434B5C;\n",
              "      --hover-fill-color: #FFFFFF;\n",
              "      --disabled-bg-color: #3B4455;\n",
              "      --disabled-fill-color: #666;\n",
              "  }\n",
              "\n",
              "  .colab-df-quickchart {\n",
              "    background-color: var(--bg-color);\n",
              "    border: none;\n",
              "    border-radius: 50%;\n",
              "    cursor: pointer;\n",
              "    display: none;\n",
              "    fill: var(--fill-color);\n",
              "    height: 32px;\n",
              "    padding: 0;\n",
              "    width: 32px;\n",
              "  }\n",
              "\n",
              "  .colab-df-quickchart:hover {\n",
              "    background-color: var(--hover-bg-color);\n",
              "    box-shadow: 0 1px 2px rgba(60, 64, 67, 0.3), 0 1px 3px 1px rgba(60, 64, 67, 0.15);\n",
              "    fill: var(--button-hover-fill-color);\n",
              "  }\n",
              "\n",
              "  .colab-df-quickchart-complete:disabled,\n",
              "  .colab-df-quickchart-complete:disabled:hover {\n",
              "    background-color: var(--disabled-bg-color);\n",
              "    fill: var(--disabled-fill-color);\n",
              "    box-shadow: none;\n",
              "  }\n",
              "\n",
              "  .colab-df-spinner {\n",
              "    border: 2px solid var(--fill-color);\n",
              "    border-color: transparent;\n",
              "    border-bottom-color: var(--fill-color);\n",
              "    animation:\n",
              "      spin 1s steps(1) infinite;\n",
              "  }\n",
              "\n",
              "  @keyframes spin {\n",
              "    0% {\n",
              "      border-color: transparent;\n",
              "      border-bottom-color: var(--fill-color);\n",
              "      border-left-color: var(--fill-color);\n",
              "    }\n",
              "    20% {\n",
              "      border-color: transparent;\n",
              "      border-left-color: var(--fill-color);\n",
              "      border-top-color: var(--fill-color);\n",
              "    }\n",
              "    30% {\n",
              "      border-color: transparent;\n",
              "      border-left-color: var(--fill-color);\n",
              "      border-top-color: var(--fill-color);\n",
              "      border-right-color: var(--fill-color);\n",
              "    }\n",
              "    40% {\n",
              "      border-color: transparent;\n",
              "      border-right-color: var(--fill-color);\n",
              "      border-top-color: var(--fill-color);\n",
              "    }\n",
              "    60% {\n",
              "      border-color: transparent;\n",
              "      border-right-color: var(--fill-color);\n",
              "    }\n",
              "    80% {\n",
              "      border-color: transparent;\n",
              "      border-right-color: var(--fill-color);\n",
              "      border-bottom-color: var(--fill-color);\n",
              "    }\n",
              "    90% {\n",
              "      border-color: transparent;\n",
              "      border-bottom-color: var(--fill-color);\n",
              "    }\n",
              "  }\n",
              "</style>\n",
              "\n",
              "  <script>\n",
              "    async function quickchart(key) {\n",
              "      const quickchartButtonEl =\n",
              "        document.querySelector('#' + key + ' button');\n",
              "      quickchartButtonEl.disabled = true;  // To prevent multiple clicks.\n",
              "      quickchartButtonEl.classList.add('colab-df-spinner');\n",
              "      try {\n",
              "        const charts = await google.colab.kernel.invokeFunction(\n",
              "            'suggestCharts', [key], {});\n",
              "      } catch (error) {\n",
              "        console.error('Error during call to suggestCharts:', error);\n",
              "      }\n",
              "      quickchartButtonEl.classList.remove('colab-df-spinner');\n",
              "      quickchartButtonEl.classList.add('colab-df-quickchart-complete');\n",
              "    }\n",
              "    (() => {\n",
              "      let quickchartButtonEl =\n",
              "        document.querySelector('#df-88b71ce4-6cc3-4a9b-bb9f-5da1509ad096 button');\n",
              "      quickchartButtonEl.style.display =\n",
              "        google.colab.kernel.accessAllowed ? 'block' : 'none';\n",
              "    })();\n",
              "  </script>\n",
              "</div>\n",
              "    </div>\n",
              "  </div>\n"
            ]
          },
          "metadata": {},
          "execution_count": 3
        }
      ],
      "source": [
        "df.head()"
      ]
    },
    {
      "cell_type": "code",
      "execution_count": 4,
      "id": "e8a1a473",
      "metadata": {
        "execution": {
          "iopub.execute_input": "2021-07-11T16:46:00.796605Z",
          "iopub.status.busy": "2021-07-11T16:46:00.795905Z",
          "iopub.status.idle": "2021-07-11T16:46:00.814885Z",
          "shell.execute_reply": "2021-07-11T16:46:00.814087Z",
          "shell.execute_reply.started": "2021-07-11T15:22:54.604667Z"
        },
        "papermill": {
          "duration": 0.058532,
          "end_time": "2021-07-11T16:46:00.815068",
          "exception": false,
          "start_time": "2021-07-11T16:46:00.756536",
          "status": "completed"
        },
        "tags": [],
        "colab": {
          "base_uri": "https://localhost:8080/"
        },
        "id": "e8a1a473",
        "outputId": "93e5f47f-e6a5-4743-b92a-c0c3523df5ae"
      },
      "outputs": [
        {
          "output_type": "stream",
          "name": "stdout",
          "text": [
            "<class 'pandas.core.frame.DataFrame'>\n",
            "RangeIndex: 306 entries, 0 to 305\n",
            "Data columns (total 4 columns):\n",
            " #   Column       Non-Null Count  Dtype\n",
            "---  ------       --------------  -----\n",
            " 0   Age          306 non-null    int64\n",
            " 1   Op_Year      306 non-null    int64\n",
            " 2   axil_nodes   306 non-null    int64\n",
            " 3   Surv_status  306 non-null    int64\n",
            "dtypes: int64(4)\n",
            "memory usage: 9.7 KB\n"
          ]
        }
      ],
      "source": [
        "df.info()"
      ]
    },
    {
      "cell_type": "code",
      "execution_count": 5,
      "id": "45f7badf",
      "metadata": {
        "execution": {
          "iopub.execute_input": "2021-07-11T16:46:00.906008Z",
          "iopub.status.busy": "2021-07-11T16:46:00.905041Z",
          "iopub.status.idle": "2021-07-11T16:46:00.910036Z",
          "shell.execute_reply": "2021-07-11T16:46:00.909486Z",
          "shell.execute_reply.started": "2021-07-11T15:22:23.197856Z"
        },
        "papermill": {
          "duration": 0.052958,
          "end_time": "2021-07-11T16:46:00.910176",
          "exception": false,
          "start_time": "2021-07-11T16:46:00.857218",
          "status": "completed"
        },
        "tags": [],
        "colab": {
          "base_uri": "https://localhost:8080/"
        },
        "id": "45f7badf",
        "outputId": "f164ed00-401c-4f9d-942a-959d05e515cb"
      },
      "outputs": [
        {
          "output_type": "execute_result",
          "data": {
            "text/plain": [
              "(306, 4)"
            ]
          },
          "metadata": {},
          "execution_count": 5
        }
      ],
      "source": [
        "df.shape"
      ]
    },
    {
      "cell_type": "code",
      "execution_count": 6,
      "id": "43bdaa3b",
      "metadata": {
        "execution": {
          "iopub.execute_input": "2021-07-11T16:46:00.992713Z",
          "iopub.status.busy": "2021-07-11T16:46:00.992044Z",
          "iopub.status.idle": "2021-07-11T16:46:01.017196Z",
          "shell.execute_reply": "2021-07-11T16:46:01.017749Z",
          "shell.execute_reply.started": "2021-07-11T15:22:32.151999Z"
        },
        "papermill": {
          "duration": 0.067435,
          "end_time": "2021-07-11T16:46:01.017970",
          "exception": false,
          "start_time": "2021-07-11T16:46:00.950535",
          "status": "completed"
        },
        "tags": [],
        "colab": {
          "base_uri": "https://localhost:8080/",
          "height": 300
        },
        "id": "43bdaa3b",
        "outputId": "b8e11a83-5fde-4a2d-a26a-734ade1440e1"
      },
      "outputs": [
        {
          "output_type": "execute_result",
          "data": {
            "text/plain": [
              "              Age     Op_Year  axil_nodes  Surv_status\n",
              "count  306.000000  306.000000  306.000000   306.000000\n",
              "mean    52.457516   62.852941    4.026144     1.264706\n",
              "std     10.803452    3.249405    7.189654     0.441899\n",
              "min     30.000000   58.000000    0.000000     1.000000\n",
              "25%     44.000000   60.000000    0.000000     1.000000\n",
              "50%     52.000000   63.000000    1.000000     1.000000\n",
              "75%     60.750000   65.750000    4.000000     2.000000\n",
              "max     83.000000   69.000000   52.000000     2.000000"
            ],
            "text/html": [
              "\n",
              "  <div id=\"df-7fdebcb7-23c2-46b2-9f02-5893e3a9c464\" class=\"colab-df-container\">\n",
              "    <div>\n",
              "<style scoped>\n",
              "    .dataframe tbody tr th:only-of-type {\n",
              "        vertical-align: middle;\n",
              "    }\n",
              "\n",
              "    .dataframe tbody tr th {\n",
              "        vertical-align: top;\n",
              "    }\n",
              "\n",
              "    .dataframe thead th {\n",
              "        text-align: right;\n",
              "    }\n",
              "</style>\n",
              "<table border=\"1\" class=\"dataframe\">\n",
              "  <thead>\n",
              "    <tr style=\"text-align: right;\">\n",
              "      <th></th>\n",
              "      <th>Age</th>\n",
              "      <th>Op_Year</th>\n",
              "      <th>axil_nodes</th>\n",
              "      <th>Surv_status</th>\n",
              "    </tr>\n",
              "  </thead>\n",
              "  <tbody>\n",
              "    <tr>\n",
              "      <th>count</th>\n",
              "      <td>306.000000</td>\n",
              "      <td>306.000000</td>\n",
              "      <td>306.000000</td>\n",
              "      <td>306.000000</td>\n",
              "    </tr>\n",
              "    <tr>\n",
              "      <th>mean</th>\n",
              "      <td>52.457516</td>\n",
              "      <td>62.852941</td>\n",
              "      <td>4.026144</td>\n",
              "      <td>1.264706</td>\n",
              "    </tr>\n",
              "    <tr>\n",
              "      <th>std</th>\n",
              "      <td>10.803452</td>\n",
              "      <td>3.249405</td>\n",
              "      <td>7.189654</td>\n",
              "      <td>0.441899</td>\n",
              "    </tr>\n",
              "    <tr>\n",
              "      <th>min</th>\n",
              "      <td>30.000000</td>\n",
              "      <td>58.000000</td>\n",
              "      <td>0.000000</td>\n",
              "      <td>1.000000</td>\n",
              "    </tr>\n",
              "    <tr>\n",
              "      <th>25%</th>\n",
              "      <td>44.000000</td>\n",
              "      <td>60.000000</td>\n",
              "      <td>0.000000</td>\n",
              "      <td>1.000000</td>\n",
              "    </tr>\n",
              "    <tr>\n",
              "      <th>50%</th>\n",
              "      <td>52.000000</td>\n",
              "      <td>63.000000</td>\n",
              "      <td>1.000000</td>\n",
              "      <td>1.000000</td>\n",
              "    </tr>\n",
              "    <tr>\n",
              "      <th>75%</th>\n",
              "      <td>60.750000</td>\n",
              "      <td>65.750000</td>\n",
              "      <td>4.000000</td>\n",
              "      <td>2.000000</td>\n",
              "    </tr>\n",
              "    <tr>\n",
              "      <th>max</th>\n",
              "      <td>83.000000</td>\n",
              "      <td>69.000000</td>\n",
              "      <td>52.000000</td>\n",
              "      <td>2.000000</td>\n",
              "    </tr>\n",
              "  </tbody>\n",
              "</table>\n",
              "</div>\n",
              "    <div class=\"colab-df-buttons\">\n",
              "\n",
              "  <div class=\"colab-df-container\">\n",
              "    <button class=\"colab-df-convert\" onclick=\"convertToInteractive('df-7fdebcb7-23c2-46b2-9f02-5893e3a9c464')\"\n",
              "            title=\"Convert this dataframe to an interactive table.\"\n",
              "            style=\"display:none;\">\n",
              "\n",
              "  <svg xmlns=\"http://www.w3.org/2000/svg\" height=\"24px\" viewBox=\"0 -960 960 960\">\n",
              "    <path d=\"M120-120v-720h720v720H120Zm60-500h600v-160H180v160Zm220 220h160v-160H400v160Zm0 220h160v-160H400v160ZM180-400h160v-160H180v160Zm440 0h160v-160H620v160ZM180-180h160v-160H180v160Zm440 0h160v-160H620v160Z\"/>\n",
              "  </svg>\n",
              "    </button>\n",
              "\n",
              "  <style>\n",
              "    .colab-df-container {\n",
              "      display:flex;\n",
              "      gap: 12px;\n",
              "    }\n",
              "\n",
              "    .colab-df-convert {\n",
              "      background-color: #E8F0FE;\n",
              "      border: none;\n",
              "      border-radius: 50%;\n",
              "      cursor: pointer;\n",
              "      display: none;\n",
              "      fill: #1967D2;\n",
              "      height: 32px;\n",
              "      padding: 0 0 0 0;\n",
              "      width: 32px;\n",
              "    }\n",
              "\n",
              "    .colab-df-convert:hover {\n",
              "      background-color: #E2EBFA;\n",
              "      box-shadow: 0px 1px 2px rgba(60, 64, 67, 0.3), 0px 1px 3px 1px rgba(60, 64, 67, 0.15);\n",
              "      fill: #174EA6;\n",
              "    }\n",
              "\n",
              "    .colab-df-buttons div {\n",
              "      margin-bottom: 4px;\n",
              "    }\n",
              "\n",
              "    [theme=dark] .colab-df-convert {\n",
              "      background-color: #3B4455;\n",
              "      fill: #D2E3FC;\n",
              "    }\n",
              "\n",
              "    [theme=dark] .colab-df-convert:hover {\n",
              "      background-color: #434B5C;\n",
              "      box-shadow: 0px 1px 3px 1px rgba(0, 0, 0, 0.15);\n",
              "      filter: drop-shadow(0px 1px 2px rgba(0, 0, 0, 0.3));\n",
              "      fill: #FFFFFF;\n",
              "    }\n",
              "  </style>\n",
              "\n",
              "    <script>\n",
              "      const buttonEl =\n",
              "        document.querySelector('#df-7fdebcb7-23c2-46b2-9f02-5893e3a9c464 button.colab-df-convert');\n",
              "      buttonEl.style.display =\n",
              "        google.colab.kernel.accessAllowed ? 'block' : 'none';\n",
              "\n",
              "      async function convertToInteractive(key) {\n",
              "        const element = document.querySelector('#df-7fdebcb7-23c2-46b2-9f02-5893e3a9c464');\n",
              "        const dataTable =\n",
              "          await google.colab.kernel.invokeFunction('convertToInteractive',\n",
              "                                                    [key], {});\n",
              "        if (!dataTable) return;\n",
              "\n",
              "        const docLinkHtml = 'Like what you see? Visit the ' +\n",
              "          '<a target=\"_blank\" href=https://colab.research.google.com/notebooks/data_table.ipynb>data table notebook</a>'\n",
              "          + ' to learn more about interactive tables.';\n",
              "        element.innerHTML = '';\n",
              "        dataTable['output_type'] = 'display_data';\n",
              "        await google.colab.output.renderOutput(dataTable, element);\n",
              "        const docLink = document.createElement('div');\n",
              "        docLink.innerHTML = docLinkHtml;\n",
              "        element.appendChild(docLink);\n",
              "      }\n",
              "    </script>\n",
              "  </div>\n",
              "\n",
              "\n",
              "<div id=\"df-24394bbe-98a9-4602-a737-20100d571828\">\n",
              "  <button class=\"colab-df-quickchart\" onclick=\"quickchart('df-24394bbe-98a9-4602-a737-20100d571828')\"\n",
              "            title=\"Suggest charts\"\n",
              "            style=\"display:none;\">\n",
              "\n",
              "<svg xmlns=\"http://www.w3.org/2000/svg\" height=\"24px\"viewBox=\"0 0 24 24\"\n",
              "     width=\"24px\">\n",
              "    <g>\n",
              "        <path d=\"M19 3H5c-1.1 0-2 .9-2 2v14c0 1.1.9 2 2 2h14c1.1 0 2-.9 2-2V5c0-1.1-.9-2-2-2zM9 17H7v-7h2v7zm4 0h-2V7h2v10zm4 0h-2v-4h2v4z\"/>\n",
              "    </g>\n",
              "</svg>\n",
              "  </button>\n",
              "\n",
              "<style>\n",
              "  .colab-df-quickchart {\n",
              "      --bg-color: #E8F0FE;\n",
              "      --fill-color: #1967D2;\n",
              "      --hover-bg-color: #E2EBFA;\n",
              "      --hover-fill-color: #174EA6;\n",
              "      --disabled-fill-color: #AAA;\n",
              "      --disabled-bg-color: #DDD;\n",
              "  }\n",
              "\n",
              "  [theme=dark] .colab-df-quickchart {\n",
              "      --bg-color: #3B4455;\n",
              "      --fill-color: #D2E3FC;\n",
              "      --hover-bg-color: #434B5C;\n",
              "      --hover-fill-color: #FFFFFF;\n",
              "      --disabled-bg-color: #3B4455;\n",
              "      --disabled-fill-color: #666;\n",
              "  }\n",
              "\n",
              "  .colab-df-quickchart {\n",
              "    background-color: var(--bg-color);\n",
              "    border: none;\n",
              "    border-radius: 50%;\n",
              "    cursor: pointer;\n",
              "    display: none;\n",
              "    fill: var(--fill-color);\n",
              "    height: 32px;\n",
              "    padding: 0;\n",
              "    width: 32px;\n",
              "  }\n",
              "\n",
              "  .colab-df-quickchart:hover {\n",
              "    background-color: var(--hover-bg-color);\n",
              "    box-shadow: 0 1px 2px rgba(60, 64, 67, 0.3), 0 1px 3px 1px rgba(60, 64, 67, 0.15);\n",
              "    fill: var(--button-hover-fill-color);\n",
              "  }\n",
              "\n",
              "  .colab-df-quickchart-complete:disabled,\n",
              "  .colab-df-quickchart-complete:disabled:hover {\n",
              "    background-color: var(--disabled-bg-color);\n",
              "    fill: var(--disabled-fill-color);\n",
              "    box-shadow: none;\n",
              "  }\n",
              "\n",
              "  .colab-df-spinner {\n",
              "    border: 2px solid var(--fill-color);\n",
              "    border-color: transparent;\n",
              "    border-bottom-color: var(--fill-color);\n",
              "    animation:\n",
              "      spin 1s steps(1) infinite;\n",
              "  }\n",
              "\n",
              "  @keyframes spin {\n",
              "    0% {\n",
              "      border-color: transparent;\n",
              "      border-bottom-color: var(--fill-color);\n",
              "      border-left-color: var(--fill-color);\n",
              "    }\n",
              "    20% {\n",
              "      border-color: transparent;\n",
              "      border-left-color: var(--fill-color);\n",
              "      border-top-color: var(--fill-color);\n",
              "    }\n",
              "    30% {\n",
              "      border-color: transparent;\n",
              "      border-left-color: var(--fill-color);\n",
              "      border-top-color: var(--fill-color);\n",
              "      border-right-color: var(--fill-color);\n",
              "    }\n",
              "    40% {\n",
              "      border-color: transparent;\n",
              "      border-right-color: var(--fill-color);\n",
              "      border-top-color: var(--fill-color);\n",
              "    }\n",
              "    60% {\n",
              "      border-color: transparent;\n",
              "      border-right-color: var(--fill-color);\n",
              "    }\n",
              "    80% {\n",
              "      border-color: transparent;\n",
              "      border-right-color: var(--fill-color);\n",
              "      border-bottom-color: var(--fill-color);\n",
              "    }\n",
              "    90% {\n",
              "      border-color: transparent;\n",
              "      border-bottom-color: var(--fill-color);\n",
              "    }\n",
              "  }\n",
              "</style>\n",
              "\n",
              "  <script>\n",
              "    async function quickchart(key) {\n",
              "      const quickchartButtonEl =\n",
              "        document.querySelector('#' + key + ' button');\n",
              "      quickchartButtonEl.disabled = true;  // To prevent multiple clicks.\n",
              "      quickchartButtonEl.classList.add('colab-df-spinner');\n",
              "      try {\n",
              "        const charts = await google.colab.kernel.invokeFunction(\n",
              "            'suggestCharts', [key], {});\n",
              "      } catch (error) {\n",
              "        console.error('Error during call to suggestCharts:', error);\n",
              "      }\n",
              "      quickchartButtonEl.classList.remove('colab-df-spinner');\n",
              "      quickchartButtonEl.classList.add('colab-df-quickchart-complete');\n",
              "    }\n",
              "    (() => {\n",
              "      let quickchartButtonEl =\n",
              "        document.querySelector('#df-24394bbe-98a9-4602-a737-20100d571828 button');\n",
              "      quickchartButtonEl.style.display =\n",
              "        google.colab.kernel.accessAllowed ? 'block' : 'none';\n",
              "    })();\n",
              "  </script>\n",
              "</div>\n",
              "    </div>\n",
              "  </div>\n"
            ]
          },
          "metadata": {},
          "execution_count": 6
        }
      ],
      "source": [
        "df.describe()"
      ]
    },
    {
      "cell_type": "code",
      "execution_count": 7,
      "id": "a0f20f72",
      "metadata": {
        "execution": {
          "iopub.execute_input": "2021-07-11T16:46:01.105768Z",
          "iopub.status.busy": "2021-07-11T16:46:01.105096Z",
          "iopub.status.idle": "2021-07-11T16:46:01.112839Z",
          "shell.execute_reply": "2021-07-11T16:46:01.112314Z",
          "shell.execute_reply.started": "2021-07-11T15:23:27.157564Z"
        },
        "papermill": {
          "duration": 0.053156,
          "end_time": "2021-07-11T16:46:01.113013",
          "exception": false,
          "start_time": "2021-07-11T16:46:01.059857",
          "status": "completed"
        },
        "tags": [],
        "colab": {
          "base_uri": "https://localhost:8080/"
        },
        "id": "a0f20f72",
        "outputId": "8b53fe4c-4d8c-48cc-8498-90014a6def81"
      },
      "outputs": [
        {
          "output_type": "execute_result",
          "data": {
            "text/plain": [
              "Age            0\n",
              "Op_Year        0\n",
              "axil_nodes     0\n",
              "Surv_status    0\n",
              "dtype: int64"
            ]
          },
          "metadata": {},
          "execution_count": 7
        }
      ],
      "source": [
        "df.isnull().sum()"
      ]
    },
    {
      "cell_type": "code",
      "execution_count": 8,
      "id": "4ecbcc38",
      "metadata": {
        "execution": {
          "iopub.execute_input": "2021-07-11T16:46:01.197926Z",
          "iopub.status.busy": "2021-07-11T16:46:01.197309Z",
          "iopub.status.idle": "2021-07-11T16:46:01.204280Z",
          "shell.execute_reply": "2021-07-11T16:46:01.203624Z",
          "shell.execute_reply.started": "2021-07-11T15:25:21.660768Z"
        },
        "papermill": {
          "duration": 0.049914,
          "end_time": "2021-07-11T16:46:01.204428",
          "exception": false,
          "start_time": "2021-07-11T16:46:01.154514",
          "status": "completed"
        },
        "tags": [],
        "colab": {
          "base_uri": "https://localhost:8080/"
        },
        "id": "4ecbcc38",
        "outputId": "f2331fcb-f58f-4416-a9de-6fb08b69f8ba"
      },
      "outputs": [
        {
          "output_type": "stream",
          "name": "stdout",
          "text": [
            "1    225\n",
            "2     81\n",
            "Name: Surv_status, dtype: int64\n"
          ]
        }
      ],
      "source": [
        "srv_lst = df[\"Surv_status\"].value_counts()\n",
        "print(srv_lst)"
      ]
    },
    {
      "cell_type": "code",
      "execution_count": 9,
      "id": "935bcad5",
      "metadata": {
        "execution": {
          "iopub.execute_input": "2021-07-11T16:46:01.294271Z",
          "iopub.status.busy": "2021-07-11T16:46:01.292908Z",
          "iopub.status.idle": "2021-07-11T16:46:01.436975Z",
          "shell.execute_reply": "2021-07-11T16:46:01.436440Z",
          "shell.execute_reply.started": "2021-07-11T15:28:29.035967Z"
        },
        "papermill": {
          "duration": 0.188673,
          "end_time": "2021-07-11T16:46:01.437234",
          "exception": false,
          "start_time": "2021-07-11T16:46:01.248561",
          "status": "completed"
        },
        "tags": [],
        "colab": {
          "base_uri": "https://localhost:8080/",
          "height": 468
        },
        "id": "935bcad5",
        "outputId": "f47aed12-b4fc-4221-958b-4f12a9f1cad7"
      },
      "outputs": [
        {
          "output_type": "display_data",
          "data": {
            "text/plain": [
              "<Figure size 500x500 with 1 Axes>"
            ],
            "image/png": "[encoded data removed]"
          },
          "metadata": {}
        }
      ],
      "source": [
        "#Plotting bar graph for survival status\n",
        "fig = pltlb.figure(figsize=(5,5))\n",
        "pltlb.ylabel(\"Cnt\")\n",
        "pltlb.title(\"No_of_Surived vs No_of_NotSurvived\")\n",
        "pltlb.bar([\"Survived\",\"NotSurvived\"],srv_lst)\n",
        "pltlb.show()"
      ]
    },
    {
      "cell_type": "code",
      "execution_count": 10,
      "id": "ae073ab8",
      "metadata": {
        "execution": {
          "iopub.execute_input": "2021-07-11T16:46:01.549718Z",
          "iopub.status.busy": "2021-07-11T16:46:01.545066Z",
          "iopub.status.idle": "2021-07-11T16:46:01.687395Z",
          "shell.execute_reply": "2021-07-11T16:46:01.687869Z",
          "shell.execute_reply.started": "2021-07-11T15:29:08.177542Z"
        },
        "papermill": {
          "duration": 0.20696,
          "end_time": "2021-07-11T16:46:01.688068",
          "exception": false,
          "start_time": "2021-07-11T16:46:01.481108",
          "status": "completed"
        },
        "tags": [],
        "colab": {
          "base_uri": "https://localhost:8080/",
          "height": 472
        },
        "id": "ae073ab8",
        "outputId": "95df0290-6604-44e0-97cf-eba313dd8737"
      },
      "outputs": [
        {
          "output_type": "display_data",
          "data": {
            "text/plain": [
              "<Figure size 640x480 with 1 Axes>"
            ],
            "image/png": "[encoded data removed]"
          },
          "metadata": {}
        }
      ],
      "source": [
        "#Age distribution\n",
        "pltlb.hist(df[\"Age\"])\n",
        "pltlb.xlabel(\"Age\")\n",
        "pltlb.ylabel(\"Count\")\n",
        "pltlb.title(\"Age_Distribution\")\n",
        "pltlb.show()"
      ]
    },
    {
      "cell_type": "code",
      "execution_count": 11,
      "id": "494ded1c",
      "metadata": {
        "execution": {
          "iopub.execute_input": "2021-07-11T16:46:01.774898Z",
          "iopub.status.busy": "2021-07-11T16:46:01.774265Z",
          "iopub.status.idle": "2021-07-11T16:46:02.214387Z",
          "shell.execute_reply": "2021-07-11T16:46:02.213747Z",
          "shell.execute_reply.started": "2021-07-11T15:30:49.073298Z"
        },
        "papermill": {
          "duration": 0.485585,
          "end_time": "2021-07-11T16:46:02.214536",
          "exception": false,
          "start_time": "2021-07-11T16:46:01.728951",
          "status": "completed"
        },
        "tags": [],
        "colab": {
          "base_uri": "https://localhost:8080/",
          "height": 324
        },
        "id": "494ded1c",
        "outputId": "95587e04-9965-4920-ccaf-f63005dffad9"
      },
      "outputs": [
        {
          "output_type": "execute_result",
          "data": {
            "text/plain": [
              "<seaborn.axisgrid.FacetGrid at 0x7ca2283514e0>"
            ]
          },
          "metadata": {},
          "execution_count": 11
        },
        {
          "output_type": "display_data",
          "data": {
            "text/plain": [
              "<Figure size 600x300 with 2 Axes>"
            ],
            "image/png": "[encoded data removed]"
          },
          "metadata": {}
        }
      ],
      "source": [
        "hist_plot = sns.FacetGrid(df, col=\"Surv_status\")\n",
        "hist_plot.map(sns.histplot, \"Surv_status\")"
      ]
    },
    {
      "cell_type": "code",
      "execution_count": 12,
      "id": "0f3a8e70",
      "metadata": {
        "execution": {
          "iopub.execute_input": "2021-07-11T16:46:02.306828Z",
          "iopub.status.busy": "2021-07-11T16:46:02.306068Z",
          "iopub.status.idle": "2021-07-11T16:46:02.875969Z",
          "shell.execute_reply": "2021-07-11T16:46:02.875240Z",
          "shell.execute_reply.started": "2021-07-11T16:03:47.140379Z"
        },
        "papermill": {
          "duration": 0.617019,
          "end_time": "2021-07-11T16:46:02.876112",
          "exception": false,
          "start_time": "2021-07-11T16:46:02.259093",
          "status": "completed"
        },
        "tags": [],
        "colab": {
          "base_uri": "https://localhost:8080/",
          "height": 329
        },
        "id": "0f3a8e70",
        "outputId": "ad089d19-8f50-4c11-daf4-ef5ab6365d43"
      },
      "outputs": [
        {
          "output_type": "display_data",
          "data": {
            "text/plain": [
              "<Figure size 392.236x300 with 1 Axes>"
            ],
            "image/png": "[encoded data removed]"
          },
          "metadata": {}
        }
      ],
      "source": [
        "# Probability Density Function\n",
        "sns.FacetGrid(df, hue=\"Surv_status\").map(sns.histplot,'Age').add_legend();\n",
        "pltlb.title('pdf_plot1_corresponding to Age failure')\n",
        "pltlb.show()"
      ]
    },
    {
      "cell_type": "code",
      "execution_count": 13,
      "id": "e8e02ed4",
      "metadata": {
        "execution": {
          "iopub.execute_input": "2021-07-11T16:46:03.009608Z",
          "iopub.status.busy": "2021-07-11T16:46:03.008793Z",
          "iopub.status.idle": "2021-07-11T16:46:03.610418Z",
          "shell.execute_reply": "2021-07-11T16:46:03.609779Z",
          "shell.execute_reply.started": "2021-07-11T16:05:36.455106Z"
        },
        "papermill": {
          "duration": 0.688029,
          "end_time": "2021-07-11T16:46:03.610568",
          "exception": false,
          "start_time": "2021-07-11T16:46:02.922539",
          "status": "completed"
        },
        "tags": [],
        "colab": {
          "base_uri": "https://localhost:8080/",
          "height": 426
        },
        "id": "e8e02ed4",
        "outputId": "57456c97-339f-48e9-b71c-87911afa31dc"
      },
      "outputs": [
        {
          "output_type": "display_data",
          "data": {
            "text/plain": [
              "<Figure size 492.236x400 with 1 Axes>"
            ],
            "image/png": "[encoded data removed]"
          },
          "metadata": {}
        }
      ],
      "source": [
        "# axil nodes\n",
        "sns.FacetGrid(df,hue=\"Surv_status\",height=4).map(sns.histplot,\"axil_nodes\").add_legend()\n",
        "pltlb.title('pdf_plot3_corresponding to axilnodes Failure', fontsize=10)\n",
        "pltlb.show()"
      ]
    },
    {
      "cell_type": "code",
      "execution_count": 14,
      "id": "c47a3e7f",
      "metadata": {
        "execution": {
          "iopub.execute_input": "2021-07-11T16:46:03.847234Z",
          "iopub.status.busy": "2021-07-11T16:46:03.846119Z",
          "iopub.status.idle": "2021-07-11T16:46:04.282534Z",
          "shell.execute_reply": "2021-07-11T16:46:04.281971Z",
          "shell.execute_reply.started": "2021-07-11T16:06:31.782562Z"
        },
        "papermill": {
          "duration": 0.621301,
          "end_time": "2021-07-11T16:46:04.282679",
          "exception": false,
          "start_time": "2021-07-11T16:46:03.661378",
          "status": "completed"
        },
        "tags": [],
        "colab": {
          "base_uri": "https://localhost:8080/",
          "height": 426
        },
        "id": "c47a3e7f",
        "outputId": "27a76454-0a8d-4840-8a37-0567a1ebcc6c"
      },
      "outputs": [
        {
          "output_type": "display_data",
          "data": {
            "text/plain": [
              "<Figure size 492.236x400 with 1 Axes>"
            ],
            "image/png": "[encoded data removed]"
          },
          "metadata": {}
        }
      ],
      "source": [
        "# year\n",
        "sns.FacetGrid(df, hue=\"Surv_status\",height=4).map(sns.histplot,'Op_Year').add_legend();\n",
        "pltlb.title('pdf_plot2_corresponding to operationyear',fontsize=10)\n",
        "pltlb.show()"
      ]
    },
    {
      "cell_type": "code",
      "execution_count": 15,
      "id": "dac26805",
      "metadata": {
        "execution": {
          "iopub.execute_input": "2021-07-11T16:46:04.386839Z",
          "iopub.status.busy": "2021-07-11T16:46:04.386173Z",
          "iopub.status.idle": "2021-07-11T16:46:04.523136Z",
          "shell.execute_reply": "2021-07-11T16:46:04.522460Z",
          "shell.execute_reply.started": "2021-07-11T16:07:27.239824Z"
        },
        "papermill": {
          "duration": 0.192679,
          "end_time": "2021-07-11T16:46:04.523280",
          "exception": false,
          "start_time": "2021-07-11T16:46:04.330601",
          "status": "completed"
        },
        "tags": [],
        "colab": {
          "base_uri": "https://localhost:8080/",
          "height": 472
        },
        "id": "dac26805",
        "outputId": "c99f88e2-dbe8-46a6-f8f3-eb94c4efa036"
      },
      "outputs": [
        {
          "output_type": "display_data",
          "data": {
            "text/plain": [
              "<Figure size 640x480 with 1 Axes>"
            ],
            "image/png": "[encoded data removed]"
          },
          "metadata": {}
        }
      ],
      "source": [
        "#box plot\n",
        "sns.boxplot(x='Surv_status',y='Age',data=df)\n",
        "pltlb.grid()\n",
        "pltlb.title('Boxplot_using Age')\n",
        "pltlb.show()"
      ]
    },
    {
      "cell_type": "code",
      "execution_count": 16,
      "id": "b33ba3ca",
      "metadata": {
        "execution": {
          "iopub.execute_input": "2021-07-11T16:46:04.645597Z",
          "iopub.status.busy": "2021-07-11T16:46:04.627598Z",
          "iopub.status.idle": "2021-07-11T16:46:04.768458Z",
          "shell.execute_reply": "2021-07-11T16:46:04.767734Z",
          "shell.execute_reply.started": "2021-07-11T16:08:13.039554Z"
        },
        "papermill": {
          "duration": 0.195817,
          "end_time": "2021-07-11T16:46:04.768604",
          "exception": false,
          "start_time": "2021-07-11T16:46:04.572787",
          "status": "completed"
        },
        "tags": [],
        "colab": {
          "base_uri": "https://localhost:8080/",
          "height": 472
        },
        "id": "b33ba3ca",
        "outputId": "3699a5ba-9aea-4999-c8db-a2ea46d8c0f3"
      },
      "outputs": [
        {
          "output_type": "display_data",
          "data": {
            "text/plain": [
              "<Figure size 640x480 with 1 Axes>"
            ],
            "image/png": "[encoded data removed]"
          },
          "metadata": {}
        }
      ],
      "source": [
        "#box plot\n",
        "sns.boxplot(x='Surv_status',y='Op_Year',data=df)\n",
        "pltlb.grid()\n",
        "pltlb.title('Boxplot_using OperationYear')\n",
        "pltlb.show()"
      ]
    },
    {
      "cell_type": "code",
      "execution_count": 17,
      "id": "f498e5b4",
      "metadata": {
        "execution": {
          "iopub.execute_input": "2021-07-11T16:46:04.892775Z",
          "iopub.status.busy": "2021-07-11T16:46:04.890017Z",
          "iopub.status.idle": "2021-07-11T16:46:05.023453Z",
          "shell.execute_reply": "2021-07-11T16:46:05.022749Z",
          "shell.execute_reply.started": "2021-07-11T16:08:50.785255Z"
        },
        "papermill": {
          "duration": 0.206508,
          "end_time": "2021-07-11T16:46:05.023597",
          "exception": false,
          "start_time": "2021-07-11T16:46:04.817089",
          "status": "completed"
        },
        "tags": [],
        "colab": {
          "base_uri": "https://localhost:8080/",
          "height": 472
        },
        "id": "f498e5b4",
        "outputId": "05b49c07-681e-4473-e0fb-df590a7b5965"
      },
      "outputs": [
        {
          "output_type": "display_data",
          "data": {
            "text/plain": [
              "<Figure size 640x480 with 1 Axes>"
            ],
            "image/png": "[encoded data removed]"
          },
          "metadata": {}
        }
      ],
      "source": [
        "#box plot\n",
        "sns.boxplot(x='Surv_status',y='axil_nodes',data=df)\n",
        "pltlb.grid()\n",
        "pltlb.title('Boxplot_using Axil-Nodes')\n",
        "pltlb.show()"
      ]
    },
    {
      "cell_type": "code",
      "execution_count": 18,
      "id": "09fa5360",
      "metadata": {
        "execution": {
          "iopub.execute_input": "2021-07-11T16:46:05.155718Z",
          "iopub.status.busy": "2021-07-11T16:46:05.145736Z",
          "iopub.status.idle": "2021-07-11T16:46:05.554190Z",
          "shell.execute_reply": "2021-07-11T16:46:05.553584Z",
          "shell.execute_reply.started": "2021-07-11T16:13:07.615693Z"
        },
        "papermill": {
          "duration": 0.479176,
          "end_time": "2021-07-11T16:46:05.554340",
          "exception": false,
          "start_time": "2021-07-11T16:46:05.075164",
          "status": "completed"
        },
        "tags": [],
        "colab": {
          "base_uri": "https://localhost:8080/",
          "height": 329
        },
        "id": "09fa5360",
        "outputId": "f3e8f3c8-ca5f-40b1-e860-ce520576c0ad"
      },
      "outputs": [
        {
          "output_type": "display_data",
          "data": {
            "text/plain": [
              "<Figure size 392.236x300 with 1 Axes>"
            ],
            "image/png": "[encoded data removed]"
          },
          "metadata": {}
        }
      ],
      "source": [
        "#SCATTER PLOT\n",
        "sns.FacetGrid(df,hue=\"Surv_status\",).map(pltlb.scatter,\"Age\", \"Op_Year\").add_legend()\n",
        "pltlb.title(\"scatterplot_of  Age Vs Year\")\n",
        "pltlb.show()"
      ]
    },
    {
      "cell_type": "code",
      "execution_count": 19,
      "id": "fd0e9e12",
      "metadata": {
        "execution": {
          "iopub.execute_input": "2021-07-11T16:46:05.661425Z",
          "iopub.status.busy": "2021-07-11T16:46:05.660701Z",
          "iopub.status.idle": "2021-07-11T16:46:06.190927Z",
          "shell.execute_reply": "2021-07-11T16:46:06.190255Z",
          "shell.execute_reply.started": "2021-07-11T16:12:22.304531Z"
        },
        "papermill": {
          "duration": 0.587093,
          "end_time": "2021-07-11T16:46:06.191093",
          "exception": false,
          "start_time": "2021-07-11T16:46:05.604000",
          "status": "completed"
        },
        "tags": [],
        "colab": {
          "base_uri": "https://localhost:8080/",
          "height": 329
        },
        "id": "fd0e9e12",
        "outputId": "d0d71fef-78b9-471c-e896-f3b46b89b23e"
      },
      "outputs": [
        {
          "output_type": "display_data",
          "data": {
            "text/plain": [
              "<Figure size 392.236x300 with 1 Axes>"
            ],
            "image/png": "[encoded data removed]"
          },
          "metadata": {}
        }
      ],
      "source": [
        "sns.set_style(\"whitegrid\")\n",
        "sns.FacetGrid(df,hue=\"Surv_status\").map(pltlb.scatter,\"axil_nodes\", \"Op_Year\").add_legend()\n",
        "pltlb.title(\"scatterplot_of axil_nodes Vs Op_Year\")\n",
        "pltlb.show()"
      ]
    },
    {
      "cell_type": "markdown",
      "id": "1bda5ca8",
      "metadata": {
        "papermill": {
          "duration": 0.05176,
          "end_time": "2021-07-11T16:46:06.295546",
          "exception": false,
          "start_time": "2021-07-11T16:46:06.243786",
          "status": "completed"
        },
        "tags": [],
        "id": "1bda5ca8"
      },
      "source": [
        "# Splitting training and test dataset"
      ]
    },
    {
      "cell_type": "code",
      "execution_count": 20,
      "id": "227cd9f6",
      "metadata": {
        "execution": {
          "iopub.execute_input": "2021-07-11T16:46:06.407156Z",
          "iopub.status.busy": "2021-07-11T16:46:06.406030Z",
          "iopub.status.idle": "2021-07-11T16:46:06.612932Z",
          "shell.execute_reply": "2021-07-11T16:46:06.612296Z",
          "shell.execute_reply.started": "2021-07-11T16:15:35.795725Z"
        },
        "papermill": {
          "duration": 0.264692,
          "end_time": "2021-07-11T16:46:06.613097",
          "exception": false,
          "start_time": "2021-07-11T16:46:06.348405",
          "status": "completed"
        },
        "tags": [],
        "id": "227cd9f6"
      },
      "outputs": [],
      "source": [
        "from sklearn.model_selection import train_test_split\n",
        "x = df.iloc[:,:2]\n",
        "y = df[\"Surv_status\"]\n",
        "x_trn, x_tst, y_trn, y_tst= train_test_split(x, y, test_size= 0.20, random_state=0)\n"
      ]
    },
    {
      "cell_type": "code",
      "execution_count": 21,
      "id": "758adc8a",
      "metadata": {
        "execution": {
          "iopub.execute_input": "2021-07-11T16:46:06.730096Z",
          "iopub.status.busy": "2021-07-11T16:46:06.729364Z",
          "iopub.status.idle": "2021-07-11T16:46:06.732900Z",
          "shell.execute_reply": "2021-07-11T16:46:06.732195Z",
          "shell.execute_reply.started": "2021-07-11T16:16:32.484898Z"
        },
        "papermill": {
          "duration": 0.067545,
          "end_time": "2021-07-11T16:46:06.733085",
          "exception": false,
          "start_time": "2021-07-11T16:46:06.665540",
          "status": "completed"
        },
        "tags": [],
        "id": "758adc8a"
      },
      "outputs": [],
      "source": [
        "#feature Scaling\n",
        "from sklearn.preprocessing import StandardScaler\n",
        "st_x= StandardScaler()\n",
        "x_trn= st_x.fit_transform(x_trn)\n",
        "x_tst= st_x.transform(x_tst)"
      ]
    },
    {
      "cell_type": "markdown",
      "id": "6a66e0b9",
      "metadata": {
        "papermill": {
          "duration": 0.05093,
          "end_time": "2021-07-11T16:46:06.837031",
          "exception": false,
          "start_time": "2021-07-11T16:46:06.786101",
          "status": "completed"
        },
        "tags": [],
        "id": "6a66e0b9"
      },
      "source": [
        "# Model Building"
      ]
    },
    {
      "cell_type": "markdown",
      "id": "8bb622c7",
      "metadata": {
        "papermill": {
          "duration": 0.053716,
          "end_time": "2021-07-11T16:46:06.943117",
          "exception": false,
          "start_time": "2021-07-11T16:46:06.889401",
          "status": "completed"
        },
        "tags": [],
        "id": "8bb622c7"
      },
      "source": [
        "# Knn"
      ]
    },
    {
      "cell_type": "code",
      "execution_count": 22,
      "id": "ce8e5101",
      "metadata": {
        "execution": {
          "iopub.execute_input": "2021-07-11T16:46:07.058034Z",
          "iopub.status.busy": "2021-07-11T16:46:07.057293Z",
          "iopub.status.idle": "2021-07-11T16:46:07.222586Z",
          "shell.execute_reply": "2021-07-11T16:46:07.223225Z",
          "shell.execute_reply.started": "2021-07-11T16:19:33.365706Z"
        },
        "papermill": {
          "duration": 0.22576,
          "end_time": "2021-07-11T16:46:07.223435",
          "exception": false,
          "start_time": "2021-07-11T16:46:06.997675",
          "status": "completed"
        },
        "tags": [],
        "colab": {
          "base_uri": "https://localhost:8080/",
          "height": 74
        },
        "id": "ce8e5101",
        "outputId": "7e4c2fcd-51db-4ad5-d2a8-2d0e625147f2"
      },
      "outputs": [
        {
          "output_type": "execute_result",
          "data": {
            "text/plain": [
              "KNeighborsClassifier(n_neighbors=8, p=4)"
            ],
            "text/html": [
              "<style>#sk-container-id-1 {color: black;background-color: white;}#sk-container-id-1 pre{padding: 0;}#sk-container-id-1 div.sk-toggleable {background-color: white;}#sk-container-id-1 label.sk-toggleable__label {cursor: pointer;display: block;width: 100%;margin-bottom: 0;padding: 0.3em;box-sizing: border-box;text-align: center;}#sk-container-id-1 label.sk-toggleable__label-arrow:before {content: \"▸\";float: left;margin-right: 0.25em;color: #696969;}#sk-container-id-1 label.sk-toggleable__label-arrow:hover:before {color: black;}#sk-container-id-1 div.sk-estimator:hover label.sk-toggleable__label-arrow:before {color: black;}#sk-container-id-1 div.sk-toggleable__content {max-height: 0;max-width: 0;overflow: hidden;text-align: left;background-color: #f0f8ff;}#sk-container-id-1 div.sk-toggleable__content pre {margin: 0.2em;color: black;border-radius: 0.25em;background-color: #f0f8ff;}#sk-container-id-1 input.sk-toggleable__control:checked~div.sk-toggleable__content {max-height: 200px;max-width: 100%;overflow: auto;}#sk-container-id-1 input.sk-toggleable__control:checked~label.sk-toggleable__label-arrow:before {content: \"▾\";}#sk-container-id-1 div.sk-estimator input.sk-toggleable__control:checked~label.sk-toggleable__label {background-color: #d4ebff;}#sk-container-id-1 div.sk-label input.sk-toggleable__control:checked~label.sk-toggleable__label {background-color: #d4ebff;}#sk-container-id-1 input.sk-hidden--visually {border: 0;clip: rect(1px 1px 1px 1px);clip: rect(1px, 1px, 1px, 1px);height: 1px;margin: -1px;overflow: hidden;padding: 0;position: absolute;width: 1px;}#sk-container-id-1 div.sk-estimator {font-family: monospace;background-color: #f0f8ff;border: 1px dotted black;border-radius: 0.25em;box-sizing: border-box;margin-bottom: 0.5em;}#sk-container-id-1 div.sk-estimator:hover {background-color: #d4ebff;}#sk-container-id-1 div.sk-parallel-item::after {content: \"\";width: 100%;border-bottom: 1px solid gray;flex-grow: 1;}#sk-container-id-1 div.sk-label:hover label.sk-toggleable__label {background-color: #d4ebff;}#sk-container-id-1 div.sk-serial::before {content: \"\";position: absolute;border-left: 1px solid gray;box-sizing: border-box;top: 0;bottom: 0;left: 50%;z-index: 0;}#sk-container-id-1 div.sk-serial {display: flex;flex-direction: column;align-items: center;background-color: white;padding-right: 0.2em;padding-left: 0.2em;position: relative;}#sk-container-id-1 div.sk-item {position: relative;z-index: 1;}#sk-container-id-1 div.sk-parallel {display: flex;align-items: stretch;justify-content: center;background-color: white;position: relative;}#sk-container-id-1 div.sk-item::before, #sk-container-id-1 div.sk-parallel-item::before {content: \"\";position: absolute;border-left: 1px solid gray;box-sizing: border-box;top: 0;bottom: 0;left: 50%;z-index: -1;}#sk-container-id-1 div.sk-parallel-item {display: flex;flex-direction: column;z-index: 1;position: relative;background-color: white;}#sk-container-id-1 div.sk-parallel-item:first-child::after {align-self: flex-end;width: 50%;}#sk-container-id-1 div.sk-parallel-item:last-child::after {align-self: flex-start;width: 50%;}#sk-container-id-1 div.sk-parallel-item:only-child::after {width: 0;}#sk-container-id-1 div.sk-dashed-wrapped {border: 1px dashed gray;margin: 0 0.4em 0.5em 0.4em;box-sizing: border-box;padding-bottom: 0.4em;background-color: white;}#sk-container-id-1 div.sk-label label {font-family: monospace;font-weight: bold;display: inline-block;line-height: 1.2em;}#sk-container-id-1 div.sk-label-container {text-align: center;}#sk-container-id-1 div.sk-container {/* jupyter's `normalize.less` sets `[hidden] { display: none; }` but bootstrap.min.css set `[hidden] { display: none !important; }` so we also need the `!important` here to be able to override the default hidden behavior on the sphinx rendered scikit-learn.org. See: https://github.com/scikit-learn/scikit-learn/issues/21755 */display: inline-block !important;position: relative;}#sk-container-id-1 div.sk-text-repr-fallback {display: none;}</style><div id=\"sk-container-id-1\" class=\"sk-top-container\"><div class=\"sk-text-repr-fallback\"><pre>KNeighborsClassifier(n_neighbors=8, p=4)</pre><b>In a Jupyter environment, please rerun this cell to show the HTML representation or trust the notebook. <br />On GitHub, the HTML representation is unable to render, please try loading this page with nbviewer.org.</b></div><div class=\"sk-container\" hidden><div class=\"sk-item\"><div class=\"sk-estimator sk-toggleable\"><input class=\"sk-toggleable__control sk-hidden--visually\" id=\"sk-estimator-id-1\" type=\"checkbox\" checked><label for=\"sk-estimator-id-1\" class=\"sk-toggleable__label sk-toggleable__label-arrow\">KNeighborsClassifier</label><div class=\"sk-toggleable__content\"><pre>KNeighborsClassifier(n_neighbors=8, p=4)</pre></div></div></div></div></div>"
            ]
          },
          "metadata": {},
          "execution_count": 22
        }
      ],
      "source": [
        "from sklearn.neighbors import KNeighborsClassifier\n",
        "clsfr_knn= KNeighborsClassifier(n_neighbors=8, metric='minkowski', p=4 )\n",
        "clsfr_knn.fit(x_trn, y_trn)"
      ]
    },
    {
      "cell_type": "code",
      "execution_count": 23,
      "id": "be8520b4",
      "metadata": {
        "execution": {
          "iopub.execute_input": "2021-07-11T16:46:07.334730Z",
          "iopub.status.busy": "2021-07-11T16:46:07.334087Z",
          "iopub.status.idle": "2021-07-11T16:46:07.336923Z",
          "shell.execute_reply": "2021-07-11T16:46:07.336434Z",
          "shell.execute_reply.started": "2021-07-11T16:20:41.910638Z"
        },
        "papermill": {
          "duration": 0.060057,
          "end_time": "2021-07-11T16:46:07.337112",
          "exception": false,
          "start_time": "2021-07-11T16:46:07.277055",
          "status": "completed"
        },
        "tags": [],
        "id": "be8520b4"
      },
      "outputs": [],
      "source": [
        "from sklearn.neighbors import KNeighborsClassifier\n",
        "from sklearn.metrics import accuracy_score\n",
        "from sklearn import metrics"
      ]
    },
    {
      "cell_type": "code",
      "execution_count": 24,
      "id": "21ae5ab4",
      "metadata": {
        "execution": {
          "iopub.execute_input": "2021-07-11T16:46:07.458083Z",
          "iopub.status.busy": "2021-07-11T16:46:07.456924Z",
          "iopub.status.idle": "2021-07-11T16:46:07.517265Z",
          "shell.execute_reply": "2021-07-11T16:46:07.516685Z",
          "shell.execute_reply.started": "2021-07-11T16:44:36.880552Z"
        },
        "papermill": {
          "duration": 0.125304,
          "end_time": "2021-07-11T16:46:07.517430",
          "exception": false,
          "start_time": "2021-07-11T16:46:07.392126",
          "status": "completed"
        },
        "tags": [],
        "colab": {
          "base_uri": "https://localhost:8080/"
        },
        "id": "21ae5ab4",
        "outputId": "b6c1d2fe-e3d9-4cbf-b04e-36d75d62148a"
      },
      "outputs": [
        {
          "output_type": "stream",
          "name": "stdout",
          "text": [
            "[0.74358974 0.71794872 0.57894737 0.71052632 0.71052632 0.73684211\n",
            " 0.65789474 0.73684211]\n",
            "The Model_Accuracy is 0.7868852459016393\n"
          ]
        }
      ],
      "source": [
        "from sklearn.model_selection import cross_val_score\n",
        "print(cross_val_score(clsfr_knn,x,y,cv=8))\n",
        "#Train\n",
        "knn_prdct= clsfr_knn.predict(x_trn)\n",
        "scr_knn= metrics.accuracy_score(y_trn,knn_prdct)\n",
        "print(\"The Model_Accuracy is\", scr_knn)"
      ]
    },
    {
      "cell_type": "code",
      "execution_count": 25,
      "id": "38abb447",
      "metadata": {
        "execution": {
          "iopub.execute_input": "2021-07-11T16:46:07.632074Z",
          "iopub.status.busy": "2021-07-11T16:46:07.631385Z",
          "iopub.status.idle": "2021-07-11T16:46:07.681497Z",
          "shell.execute_reply": "2021-07-11T16:46:07.682448Z",
          "shell.execute_reply.started": "2021-07-11T16:44:39.284118Z"
        },
        "papermill": {
          "duration": 0.110817,
          "end_time": "2021-07-11T16:46:07.682690",
          "exception": false,
          "start_time": "2021-07-11T16:46:07.571873",
          "status": "completed"
        },
        "tags": [],
        "colab": {
          "base_uri": "https://localhost:8080/"
        },
        "id": "38abb447",
        "outputId": "faeb1f56-4dae-423c-83b9-5f1d2f114652"
      },
      "outputs": [
        {
          "output_type": "stream",
          "name": "stdout",
          "text": [
            "[0.74358974 0.71794872 0.57894737 0.71052632 0.71052632 0.73684211\n",
            " 0.65789474 0.73684211]\n",
            "The Model_Accuracy is 0.5806451612903226\n"
          ]
        }
      ],
      "source": [
        "#Test\n",
        "knn_prdct= clsfr_knn.predict(x_tst)\n",
        "scr_knn_1= metrics.accuracy_score(y_tst,knn_prdct)\n",
        "print(cross_val_score(clsfr_knn,x,y,cv=8)) #perform cross validation\n",
        "print(\"The Model_Accuracy is\", scr_knn_1)"
      ]
    },
    {
      "cell_type": "markdown",
      "id": "9c37b75a",
      "metadata": {
        "papermill": {
          "duration": 0.053556,
          "end_time": "2021-07-11T16:46:07.790869",
          "exception": false,
          "start_time": "2021-07-11T16:46:07.737313",
          "status": "completed"
        },
        "tags": [],
        "id": "9c37b75a"
      },
      "source": [
        "# Decision Tree"
      ]
    },
    {
      "cell_type": "code",
      "execution_count": 26,
      "id": "15b195bf",
      "metadata": {
        "execution": {
          "iopub.execute_input": "2021-07-11T16:46:07.907694Z",
          "iopub.status.busy": "2021-07-11T16:46:07.906971Z",
          "iopub.status.idle": "2021-07-11T16:46:07.944498Z",
          "shell.execute_reply": "2021-07-11T16:46:07.945019Z",
          "shell.execute_reply.started": "2021-07-11T16:25:16.486405Z"
        },
        "papermill": {
          "duration": 0.100546,
          "end_time": "2021-07-11T16:46:07.945213",
          "exception": false,
          "start_time": "2021-07-11T16:46:07.844667",
          "status": "completed"
        },
        "tags": [],
        "colab": {
          "base_uri": "https://localhost:8080/",
          "height": 74
        },
        "id": "15b195bf",
        "outputId": "2337a190-3f6d-48f4-f393-51e67b14d37c"
      },
      "outputs": [
        {
          "output_type": "execute_result",
          "data": {
            "text/plain": [
              "DecisionTreeClassifier(criterion='entropy', random_state=0)"
            ],
            "text/html": [
              "<style>#sk-container-id-2 {color: black;background-color: white;}#sk-container-id-2 pre{padding: 0;}#sk-container-id-2 div.sk-toggleable {background-color: white;}#sk-container-id-2 label.sk-toggleable__label {cursor: pointer;display: block;width: 100%;margin-bottom: 0;padding: 0.3em;box-sizing: border-box;text-align: center;}#sk-container-id-2 label.sk-toggleable__label-arrow:before {content: \"▸\";float: left;margin-right: 0.25em;color: #696969;}#sk-container-id-2 label.sk-toggleable__label-arrow:hover:before {color: black;}#sk-container-id-2 div.sk-estimator:hover label.sk-toggleable__label-arrow:before {color: black;}#sk-container-id-2 div.sk-toggleable__content {max-height: 0;max-width: 0;overflow: hidden;text-align: left;background-color: #f0f8ff;}#sk-container-id-2 div.sk-toggleable__content pre {margin: 0.2em;color: black;border-radius: 0.25em;background-color: #f0f8ff;}#sk-container-id-2 input.sk-toggleable__control:checked~div.sk-toggleable__content {max-height: 200px;max-width: 100%;overflow: auto;}#sk-container-id-2 input.sk-toggleable__control:checked~label.sk-toggleable__label-arrow:before {content: \"▾\";}#sk-container-id-2 div.sk-estimator input.sk-toggleable__control:checked~label.sk-toggleable__label {background-color: #d4ebff;}#sk-container-id-2 div.sk-label input.sk-toggleable__control:checked~label.sk-toggleable__label {background-color: #d4ebff;}#sk-container-id-2 input.sk-hidden--visually {border: 0;clip: rect(1px 1px 1px 1px);clip: rect(1px, 1px, 1px, 1px);height: 1px;margin: -1px;overflow: hidden;padding: 0;position: absolute;width: 1px;}#sk-container-id-2 div.sk-estimator {font-family: monospace;background-color: #f0f8ff;border: 1px dotted black;border-radius: 0.25em;box-sizing: border-box;margin-bottom: 0.5em;}#sk-container-id-2 div.sk-estimator:hover {background-color: #d4ebff;}#sk-container-id-2 div.sk-parallel-item::after {content: \"\";width: 100%;border-bottom: 1px solid gray;flex-grow: 1;}#sk-container-id-2 div.sk-label:hover label.sk-toggleable__label {background-color: #d4ebff;}#sk-container-id-2 div.sk-serial::before {content: \"\";position: absolute;border-left: 1px solid gray;box-sizing: border-box;top: 0;bottom: 0;left: 50%;z-index: 0;}#sk-container-id-2 div.sk-serial {display: flex;flex-direction: column;align-items: center;background-color: white;padding-right: 0.2em;padding-left: 0.2em;position: relative;}#sk-container-id-2 div.sk-item {position: relative;z-index: 1;}#sk-container-id-2 div.sk-parallel {display: flex;align-items: stretch;justify-content: center;background-color: white;position: relative;}#sk-container-id-2 div.sk-item::before, #sk-container-id-2 div.sk-parallel-item::before {content: \"\";position: absolute;border-left: 1px solid gray;box-sizing: border-box;top: 0;bottom: 0;left: 50%;z-index: -1;}#sk-container-id-2 div.sk-parallel-item {display: flex;flex-direction: column;z-index: 1;position: relative;background-color: white;}#sk-container-id-2 div.sk-parallel-item:first-child::after {align-self: flex-end;width: 50%;}#sk-container-id-2 div.sk-parallel-item:last-child::after {align-self: flex-start;width: 50%;}#sk-container-id-2 div.sk-parallel-item:only-child::after {width: 0;}#sk-container-id-2 div.sk-dashed-wrapped {border: 1px dashed gray;margin: 0 0.4em 0.5em 0.4em;box-sizing: border-box;padding-bottom: 0.4em;background-color: white;}#sk-container-id-2 div.sk-label label {font-family: monospace;font-weight: bold;display: inline-block;line-height: 1.2em;}#sk-container-id-2 div.sk-label-container {text-align: center;}#sk-container-id-2 div.sk-container {/* jupyter's `normalize.less` sets `[hidden] { display: none; }` but bootstrap.min.css set `[hidden] { display: none !important; }` so we also need the `!important` here to be able to override the default hidden behavior on the sphinx rendered scikit-learn.org. See: https://github.com/scikit-learn/scikit-learn/issues/21755 */display: inline-block !important;position: relative;}#sk-container-id-2 div.sk-text-repr-fallback {display: none;}</style><div id=\"sk-container-id-2\" class=\"sk-top-container\"><div class=\"sk-text-repr-fallback\"><pre>DecisionTreeClassifier(criterion=&#x27;entropy&#x27;, random_state=0)</pre><b>In a Jupyter environment, please rerun this cell to show the HTML representation or trust the notebook. <br />On GitHub, the HTML representation is unable to render, please try loading this page with nbviewer.org.</b></div><div class=\"sk-container\" hidden><div class=\"sk-item\"><div class=\"sk-estimator sk-toggleable\"><input class=\"sk-toggleable__control sk-hidden--visually\" id=\"sk-estimator-id-2\" type=\"checkbox\" checked><label for=\"sk-estimator-id-2\" class=\"sk-toggleable__label sk-toggleable__label-arrow\">DecisionTreeClassifier</label><div class=\"sk-toggleable__content\"><pre>DecisionTreeClassifier(criterion=&#x27;entropy&#x27;, random_state=0)</pre></div></div></div></div></div>"
            ]
          },
          "metadata": {},
          "execution_count": 26
        }
      ],
      "source": [
        "from sklearn.tree import DecisionTreeClassifier\n",
        "clsfr_tr = DecisionTreeClassifier(criterion='entropy', random_state=0)\n",
        "clsfr_tr.fit(x_trn, y_trn)"
      ]
    },
    {
      "cell_type": "code",
      "execution_count": 27,
      "id": "52169697",
      "metadata": {
        "execution": {
          "iopub.execute_input": "2021-07-11T16:46:08.057000Z",
          "iopub.status.busy": "2021-07-11T16:46:08.056311Z",
          "iopub.status.idle": "2021-07-11T16:46:08.096626Z",
          "shell.execute_reply": "2021-07-11T16:46:08.095840Z",
          "shell.execute_reply.started": "2021-07-11T16:26:57.377490Z"
        },
        "papermill": {
          "duration": 0.098627,
          "end_time": "2021-07-11T16:46:08.096815",
          "exception": false,
          "start_time": "2021-07-11T16:46:07.998188",
          "status": "completed"
        },
        "tags": [],
        "colab": {
          "base_uri": "https://localhost:8080/"
        },
        "id": "52169697",
        "outputId": "5e37038b-e163-4def-f349-722ea5eddb86"
      },
      "outputs": [
        {
          "output_type": "stream",
          "name": "stdout",
          "text": [
            "The Model_Accuracy is 0.9262295081967213\n",
            "[0.76923077 0.23076923 0.31578947 0.63157895 0.63157895 0.73684211\n",
            " 0.47368421 0.28947368]\n"
          ]
        }
      ],
      "source": [
        "#Train\n",
        "tr_prdct= clsfr_tr.predict(x_trn)\n",
        "scr_tr= metrics.accuracy_score(y_trn,tr_prdct)\n",
        "print(\"The Model_Accuracy is\", scr_tr)\n",
        "print(cross_val_score(clsfr_tr,x,y,cv=8))  #perform cross validation"
      ]
    },
    {
      "cell_type": "code",
      "execution_count": 28,
      "id": "bcc73629",
      "metadata": {
        "execution": {
          "iopub.execute_input": "2021-07-11T16:46:08.212613Z",
          "iopub.status.busy": "2021-07-11T16:46:08.211885Z",
          "iopub.status.idle": "2021-07-11T16:46:08.215951Z",
          "shell.execute_reply": "2021-07-11T16:46:08.216618Z",
          "shell.execute_reply.started": "2021-07-11T16:27:41.622386Z"
        },
        "papermill": {
          "duration": 0.063959,
          "end_time": "2021-07-11T16:46:08.216856",
          "exception": false,
          "start_time": "2021-07-11T16:46:08.152897",
          "status": "completed"
        },
        "tags": [],
        "colab": {
          "base_uri": "https://localhost:8080/"
        },
        "id": "bcc73629",
        "outputId": "c044fd84-a5d0-4a29-a2c6-be676bc2939d"
      },
      "outputs": [
        {
          "output_type": "stream",
          "name": "stdout",
          "text": [
            "The Model_Accuracy is 0.5967741935483871\n"
          ]
        }
      ],
      "source": [
        "#Test\n",
        "tr_prdct= clsfr_tr.predict(x_tst)\n",
        "scr_tr1 = metrics.accuracy_score(y_tst,tr_prdct)\n",
        "print(\"The Model_Accuracy is\", scr_tr1)"
      ]
    },
    {
      "cell_type": "markdown",
      "id": "3079785e",
      "metadata": {
        "papermill": {
          "duration": 0.052989,
          "end_time": "2021-07-11T16:46:08.326119",
          "exception": false,
          "start_time": "2021-07-11T16:46:08.273130",
          "status": "completed"
        },
        "tags": [],
        "id": "3079785e"
      },
      "source": [
        "# Support vector Machine"
      ]
    },
    {
      "cell_type": "code",
      "execution_count": 29,
      "id": "0d63ea92",
      "metadata": {
        "execution": {
          "iopub.execute_input": "2021-07-11T16:46:08.441544Z",
          "iopub.status.busy": "2021-07-11T16:46:08.440498Z",
          "iopub.status.idle": "2021-07-11T16:46:08.448293Z",
          "shell.execute_reply": "2021-07-11T16:46:08.447638Z",
          "shell.execute_reply.started": "2021-07-11T16:29:53.592972Z"
        },
        "papermill": {
          "duration": 0.068206,
          "end_time": "2021-07-11T16:46:08.448435",
          "exception": false,
          "start_time": "2021-07-11T16:46:08.380229",
          "status": "completed"
        },
        "tags": [],
        "colab": {
          "base_uri": "https://localhost:8080/",
          "height": 74
        },
        "id": "0d63ea92",
        "outputId": "0a66a68f-c8b9-4bed-812c-912fc93a797b"
      },
      "outputs": [
        {
          "output_type": "execute_result",
          "data": {
            "text/plain": [
              "SVC(kernel='linear', random_state=0)"
            ],
            "text/html": [
              "<style>#sk-container-id-3 {color: black;background-color: white;}#sk-container-id-3 pre{padding: 0;}#sk-container-id-3 div.sk-toggleable {background-color: white;}#sk-container-id-3 label.sk-toggleable__label {cursor: pointer;display: block;width: 100%;margin-bottom: 0;padding: 0.3em;box-sizing: border-box;text-align: center;}#sk-container-id-3 label.sk-toggleable__label-arrow:before {content: \"▸\";float: left;margin-right: 0.25em;color: #696969;}#sk-container-id-3 label.sk-toggleable__label-arrow:hover:before {color: black;}#sk-container-id-3 div.sk-estimator:hover label.sk-toggleable__label-arrow:before {color: black;}#sk-container-id-3 div.sk-toggleable__content {max-height: 0;max-width: 0;overflow: hidden;text-align: left;background-color: #f0f8ff;}#sk-container-id-3 div.sk-toggleable__content pre {margin: 0.2em;color: black;border-radius: 0.25em;background-color: #f0f8ff;}#sk-container-id-3 input.sk-toggleable__control:checked~div.sk-toggleable__content {max-height: 200px;max-width: 100%;overflow: auto;}#sk-container-id-3 input.sk-toggleable__control:checked~label.sk-toggleable__label-arrow:before {content: \"▾\";}#sk-container-id-3 div.sk-estimator input.sk-toggleable__control:checked~label.sk-toggleable__label {background-color: #d4ebff;}#sk-container-id-3 div.sk-label input.sk-toggleable__control:checked~label.sk-toggleable__label {background-color: #d4ebff;}#sk-container-id-3 input.sk-hidden--visually {border: 0;clip: rect(1px 1px 1px 1px);clip: rect(1px, 1px, 1px, 1px);height: 1px;margin: -1px;overflow: hidden;padding: 0;position: absolute;width: 1px;}#sk-container-id-3 div.sk-estimator {font-family: monospace;background-color: #f0f8ff;border: 1px dotted black;border-radius: 0.25em;box-sizing: border-box;margin-bottom: 0.5em;}#sk-container-id-3 div.sk-estimator:hover {background-color: #d4ebff;}#sk-container-id-3 div.sk-parallel-item::after {content: \"\";width: 100%;border-bottom: 1px solid gray;flex-grow: 1;}#sk-container-id-3 div.sk-label:hover label.sk-toggleable__label {background-color: #d4ebff;}#sk-container-id-3 div.sk-serial::before {content: \"\";position: absolute;border-left: 1px solid gray;box-sizing: border-box;top: 0;bottom: 0;left: 50%;z-index: 0;}#sk-container-id-3 div.sk-serial {display: flex;flex-direction: column;align-items: center;background-color: white;padding-right: 0.2em;padding-left: 0.2em;position: relative;}#sk-container-id-3 div.sk-item {position: relative;z-index: 1;}#sk-container-id-3 div.sk-parallel {display: flex;align-items: stretch;justify-content: center;background-color: white;position: relative;}#sk-container-id-3 div.sk-item::before, #sk-container-id-3 div.sk-parallel-item::before {content: \"\";position: absolute;border-left: 1px solid gray;box-sizing: border-box;top: 0;bottom: 0;left: 50%;z-index: -1;}#sk-container-id-3 div.sk-parallel-item {display: flex;flex-direction: column;z-index: 1;position: relative;background-color: white;}#sk-container-id-3 div.sk-parallel-item:first-child::after {align-self: flex-end;width: 50%;}#sk-container-id-3 div.sk-parallel-item:last-child::after {align-self: flex-start;width: 50%;}#sk-container-id-3 div.sk-parallel-item:only-child::after {width: 0;}#sk-container-id-3 div.sk-dashed-wrapped {border: 1px dashed gray;margin: 0 0.4em 0.5em 0.4em;box-sizing: border-box;padding-bottom: 0.4em;background-color: white;}#sk-container-id-3 div.sk-label label {font-family: monospace;font-weight: bold;display: inline-block;line-height: 1.2em;}#sk-container-id-3 div.sk-label-container {text-align: center;}#sk-container-id-3 div.sk-container {/* jupyter's `normalize.less` sets `[hidden] { display: none; }` but bootstrap.min.css set `[hidden] { display: none !important; }` so we also need the `!important` here to be able to override the default hidden behavior on the sphinx rendered scikit-learn.org. See: https://github.com/scikit-learn/scikit-learn/issues/21755 */display: inline-block !important;position: relative;}#sk-container-id-3 div.sk-text-repr-fallback {display: none;}</style><div id=\"sk-container-id-3\" class=\"sk-top-container\"><div class=\"sk-text-repr-fallback\"><pre>SVC(kernel=&#x27;linear&#x27;, random_state=0)</pre><b>In a Jupyter environment, please rerun this cell to show the HTML representation or trust the notebook. <br />On GitHub, the HTML representation is unable to render, please try loading this page with nbviewer.org.</b></div><div class=\"sk-container\" hidden><div class=\"sk-item\"><div class=\"sk-estimator sk-toggleable\"><input class=\"sk-toggleable__control sk-hidden--visually\" id=\"sk-estimator-id-3\" type=\"checkbox\" checked><label for=\"sk-estimator-id-3\" class=\"sk-toggleable__label sk-toggleable__label-arrow\">SVC</label><div class=\"sk-toggleable__content\"><pre>SVC(kernel=&#x27;linear&#x27;, random_state=0)</pre></div></div></div></div></div>"
            ]
          },
          "metadata": {},
          "execution_count": 29
        }
      ],
      "source": [
        "from sklearn.svm import SVC\n",
        "clsfr_svc = SVC(kernel='linear', random_state=0)\n",
        "clsfr_svc.fit(x_trn, y_trn)"
      ]
    },
    {
      "cell_type": "code",
      "execution_count": 30,
      "id": "a934fa4a",
      "metadata": {
        "execution": {
          "iopub.execute_input": "2021-07-11T16:46:08.565312Z",
          "iopub.status.busy": "2021-07-11T16:46:08.564599Z",
          "iopub.status.idle": "2021-07-11T16:46:08.616108Z",
          "shell.execute_reply": "2021-07-11T16:46:08.615316Z",
          "shell.execute_reply.started": "2021-07-11T16:33:24.362429Z"
        },
        "papermill": {
          "duration": 0.11211,
          "end_time": "2021-07-11T16:46:08.616317",
          "exception": false,
          "start_time": "2021-07-11T16:46:08.504207",
          "status": "completed"
        },
        "tags": [],
        "colab": {
          "base_uri": "https://localhost:8080/"
        },
        "id": "a934fa4a",
        "outputId": "cd521af6-e23e-449c-82a3-5a5927b0a996"
      },
      "outputs": [
        {
          "output_type": "stream",
          "name": "stdout",
          "text": [
            "The Model_Accuracy is 0.7704918032786885\n",
            "[[188   0]\n",
            " [ 56   0]]\n",
            "[0.74358974 0.71794872 0.73684211 0.73684211 0.73684211 0.73684211\n",
            " 0.73684211 0.73684211]\n"
          ]
        }
      ],
      "source": [
        "#Train\n",
        "from sklearn.metrics import confusion_matrix\n",
        "svc_prdct= clsfr_svc.predict(x_trn)\n",
        "cnfm= confusion_matrix(y_trn,svc_prdct )\n",
        "scr_svc= metrics.accuracy_score(y_trn,svc_prdct)\n",
        "print(\"The Model_Accuracy is\", scr_svc)\n",
        "print(cnfm)\n",
        "print(cross_val_score(clsfr_svc,x,y,cv=8)) #perform cross validation"
      ]
    },
    {
      "cell_type": "code",
      "execution_count": 31,
      "id": "ed11bfba",
      "metadata": {
        "execution": {
          "iopub.execute_input": "2021-07-11T16:46:08.734097Z",
          "iopub.status.busy": "2021-07-11T16:46:08.733439Z",
          "iopub.status.idle": "2021-07-11T16:46:08.737267Z",
          "shell.execute_reply": "2021-07-11T16:46:08.736524Z",
          "shell.execute_reply.started": "2021-07-11T16:34:47.886466Z"
        },
        "papermill": {
          "duration": 0.065766,
          "end_time": "2021-07-11T16:46:08.737408",
          "exception": false,
          "start_time": "2021-07-11T16:46:08.671642",
          "status": "completed"
        },
        "tags": [],
        "colab": {
          "base_uri": "https://localhost:8080/"
        },
        "id": "ed11bfba",
        "outputId": "ac6d0f23-a78a-4f5f-d9a2-a8f7939c4ed4"
      },
      "outputs": [
        {
          "output_type": "stream",
          "name": "stdout",
          "text": [
            "The Model_Accuracy is 0.5967741935483871\n",
            "[[37  0]\n",
            " [25  0]]\n"
          ]
        }
      ],
      "source": [
        "#Test\n",
        "svc_prdct= clsfr_svc.predict(x_tst)\n",
        "cnfm= confusion_matrix(y_tst, svc_prdct)\n",
        "scr_svc_1= metrics.accuracy_score(y_tst,svc_prdct)\n",
        "print(\"The Model_Accuracy is\", scr_svc_1)\n",
        "print(cnfm)"
      ]
    },
    {
      "cell_type": "markdown",
      "id": "476c5eda",
      "metadata": {
        "papermill": {
          "duration": 0.053917,
          "end_time": "2021-07-11T16:46:08.846317",
          "exception": false,
          "start_time": "2021-07-11T16:46:08.792400",
          "status": "completed"
        },
        "tags": [],
        "id": "476c5eda"
      },
      "source": [
        "# Random Forest Classifier"
      ]
    },
    {
      "cell_type": "code",
      "execution_count": 32,
      "id": "fad38d61",
      "metadata": {
        "execution": {
          "iopub.execute_input": "2021-07-11T16:46:08.961880Z",
          "iopub.status.busy": "2021-07-11T16:46:08.961125Z",
          "iopub.status.idle": "2021-07-11T16:46:09.023911Z",
          "shell.execute_reply": "2021-07-11T16:46:09.023403Z",
          "shell.execute_reply.started": "2021-07-11T16:36:57.311654Z"
        },
        "papermill": {
          "duration": 0.123661,
          "end_time": "2021-07-11T16:46:09.024083",
          "exception": false,
          "start_time": "2021-07-11T16:46:08.900422",
          "status": "completed"
        },
        "tags": [],
        "colab": {
          "base_uri": "https://localhost:8080/",
          "height": 74
        },
        "id": "fad38d61",
        "outputId": "20e897e9-678a-421e-869d-359fb4e04958"
      },
      "outputs": [
        {
          "output_type": "execute_result",
          "data": {
            "text/plain": [
              "RandomForestClassifier(criterion='entropy', n_estimators=14)"
            ],
            "text/html": [
              "<style>#sk-container-id-4 {color: black;background-color: white;}#sk-container-id-4 pre{padding: 0;}#sk-container-id-4 div.sk-toggleable {background-color: white;}#sk-container-id-4 label.sk-toggleable__label {cursor: pointer;display: block;width: 100%;margin-bottom: 0;padding: 0.3em;box-sizing: border-box;text-align: center;}#sk-container-id-4 label.sk-toggleable__label-arrow:before {content: \"▸\";float: left;margin-right: 0.25em;color: #696969;}#sk-container-id-4 label.sk-toggleable__label-arrow:hover:before {color: black;}#sk-container-id-4 div.sk-estimator:hover label.sk-toggleable__label-arrow:before {color: black;}#sk-container-id-4 div.sk-toggleable__content {max-height: 0;max-width: 0;overflow: hidden;text-align: left;background-color: #f0f8ff;}#sk-container-id-4 div.sk-toggleable__content pre {margin: 0.2em;color: black;border-radius: 0.25em;background-color: #f0f8ff;}#sk-container-id-4 input.sk-toggleable__control:checked~div.sk-toggleable__content {max-height: 200px;max-width: 100%;overflow: auto;}#sk-container-id-4 input.sk-toggleable__control:checked~label.sk-toggleable__label-arrow:before {content: \"▾\";}#sk-container-id-4 div.sk-estimator input.sk-toggleable__control:checked~label.sk-toggleable__label {background-color: #d4ebff;}#sk-container-id-4 div.sk-label input.sk-toggleable__control:checked~label.sk-toggleable__label {background-color: #d4ebff;}#sk-container-id-4 input.sk-hidden--visually {border: 0;clip: rect(1px 1px 1px 1px);clip: rect(1px, 1px, 1px, 1px);height: 1px;margin: -1px;overflow: hidden;padding: 0;position: absolute;width: 1px;}#sk-container-id-4 div.sk-estimator {font-family: monospace;background-color: #f0f8ff;border: 1px dotted black;border-radius: 0.25em;box-sizing: border-box;margin-bottom: 0.5em;}#sk-container-id-4 div.sk-estimator:hover {background-color: #d4ebff;}#sk-container-id-4 div.sk-parallel-item::after {content: \"\";width: 100%;border-bottom: 1px solid gray;flex-grow: 1;}#sk-container-id-4 div.sk-label:hover label.sk-toggleable__label {background-color: #d4ebff;}#sk-container-id-4 div.sk-serial::before {content: \"\";position: absolute;border-left: 1px solid gray;box-sizing: border-box;top: 0;bottom: 0;left: 50%;z-index: 0;}#sk-container-id-4 div.sk-serial {display: flex;flex-direction: column;align-items: center;background-color: white;padding-right: 0.2em;padding-left: 0.2em;position: relative;}#sk-container-id-4 div.sk-item {position: relative;z-index: 1;}#sk-container-id-4 div.sk-parallel {display: flex;align-items: stretch;justify-content: center;background-color: white;position: relative;}#sk-container-id-4 div.sk-item::before, #sk-container-id-4 div.sk-parallel-item::before {content: \"\";position: absolute;border-left: 1px solid gray;box-sizing: border-box;top: 0;bottom: 0;left: 50%;z-index: -1;}#sk-container-id-4 div.sk-parallel-item {display: flex;flex-direction: column;z-index: 1;position: relative;background-color: white;}#sk-container-id-4 div.sk-parallel-item:first-child::after {align-self: flex-end;width: 50%;}#sk-container-id-4 div.sk-parallel-item:last-child::after {align-self: flex-start;width: 50%;}#sk-container-id-4 div.sk-parallel-item:only-child::after {width: 0;}#sk-container-id-4 div.sk-dashed-wrapped {border: 1px dashed gray;margin: 0 0.4em 0.5em 0.4em;box-sizing: border-box;padding-bottom: 0.4em;background-color: white;}#sk-container-id-4 div.sk-label label {font-family: monospace;font-weight: bold;display: inline-block;line-height: 1.2em;}#sk-container-id-4 div.sk-label-container {text-align: center;}#sk-container-id-4 div.sk-container {/* jupyter's `normalize.less` sets `[hidden] { display: none; }` but bootstrap.min.css set `[hidden] { display: none !important; }` so we also need the `!important` here to be able to override the default hidden behavior on the sphinx rendered scikit-learn.org. See: https://github.com/scikit-learn/scikit-learn/issues/21755 */display: inline-block !important;position: relative;}#sk-container-id-4 div.sk-text-repr-fallback {display: none;}</style><div id=\"sk-container-id-4\" class=\"sk-top-container\"><div class=\"sk-text-repr-fallback\"><pre>RandomForestClassifier(criterion=&#x27;entropy&#x27;, n_estimators=14)</pre><b>In a Jupyter environment, please rerun this cell to show the HTML representation or trust the notebook. <br />On GitHub, the HTML representation is unable to render, please try loading this page with nbviewer.org.</b></div><div class=\"sk-container\" hidden><div class=\"sk-item\"><div class=\"sk-estimator sk-toggleable\"><input class=\"sk-toggleable__control sk-hidden--visually\" id=\"sk-estimator-id-4\" type=\"checkbox\" checked><label for=\"sk-estimator-id-4\" class=\"sk-toggleable__label sk-toggleable__label-arrow\">RandomForestClassifier</label><div class=\"sk-toggleable__content\"><pre>RandomForestClassifier(criterion=&#x27;entropy&#x27;, n_estimators=14)</pre></div></div></div></div></div>"
            ]
          },
          "metadata": {},
          "execution_count": 32
        }
      ],
      "source": [
        "from sklearn.ensemble import RandomForestClassifier\n",
        "clsfr_rndm= RandomForestClassifier(n_estimators= 14, criterion=\"entropy\")\n",
        "clsfr_rndm.fit(x_trn, y_trn)"
      ]
    },
    {
      "cell_type": "code",
      "execution_count": 33,
      "id": "d9e5c545",
      "metadata": {
        "execution": {
          "iopub.execute_input": "2021-07-11T16:46:09.143692Z",
          "iopub.status.busy": "2021-07-11T16:46:09.142593Z",
          "iopub.status.idle": "2021-07-11T16:46:09.335220Z",
          "shell.execute_reply": "2021-07-11T16:46:09.334650Z",
          "shell.execute_reply.started": "2021-07-11T16:38:10.592031Z"
        },
        "papermill": {
          "duration": 0.256385,
          "end_time": "2021-07-11T16:46:09.335363",
          "exception": false,
          "start_time": "2021-07-11T16:46:09.078978",
          "status": "completed"
        },
        "tags": [],
        "colab": {
          "base_uri": "https://localhost:8080/"
        },
        "id": "d9e5c545",
        "outputId": "c6f7ba8d-b9d5-42de-b18b-01214ba00aec"
      },
      "outputs": [
        {
          "output_type": "stream",
          "name": "stdout",
          "text": [
            "The Model_Accuracy is 0.889344262295082\n",
            "[[178  10]\n",
            " [ 17  39]]\n",
            "[0.76923077 0.38461538 0.44736842 0.65789474 0.52631579 0.73684211\n",
            " 0.55263158 0.65789474]\n"
          ]
        }
      ],
      "source": [
        "#Train\n",
        "from sklearn.metrics import confusion_matrix\n",
        "rndm_prdct= clsfr_rndm.predict(x_trn)\n",
        "cnfm= confusion_matrix(y_trn,rndm_prdct )\n",
        "scr_rndm= metrics.accuracy_score(y_trn,rndm_prdct)\n",
        "print(\"The Model_Accuracy is\", scr_rndm)\n",
        "print(cnfm)\n",
        "print(cross_val_score(clsfr_rndm,x,y,cv=8))  #perform cross validation"
      ]
    },
    {
      "cell_type": "code",
      "execution_count": 34,
      "id": "ef1772f6",
      "metadata": {
        "execution": {
          "iopub.execute_input": "2021-07-11T16:46:09.462644Z",
          "iopub.status.busy": "2021-07-11T16:46:09.460500Z",
          "iopub.status.idle": "2021-07-11T16:46:09.469766Z",
          "shell.execute_reply": "2021-07-11T16:46:09.470494Z",
          "shell.execute_reply.started": "2021-07-11T16:39:00.809477Z"
        },
        "papermill": {
          "duration": 0.077823,
          "end_time": "2021-07-11T16:46:09.470698",
          "exception": false,
          "start_time": "2021-07-11T16:46:09.392875",
          "status": "completed"
        },
        "tags": [],
        "colab": {
          "base_uri": "https://localhost:8080/"
        },
        "id": "ef1772f6",
        "outputId": "f8490e1b-e458-4a8f-ac0e-29b4feec7c75"
      },
      "outputs": [
        {
          "output_type": "stream",
          "name": "stdout",
          "text": [
            "The Model_Accuracy is 0.5967741935483871\n",
            "[[35  2]\n",
            " [21  4]]\n"
          ]
        }
      ],
      "source": [
        "#Test\n",
        "rndm_prdct= clsfr_rndm.predict(x_tst)\n",
        "cnfm= confusion_matrix(y_tst, rndm_prdct)\n",
        "scr_rndm_1= metrics.accuracy_score(y_tst,svc_prdct)\n",
        "print(\"The Model_Accuracy is\", scr_rndm_1)\n",
        "print(cnfm)"
      ]
    },
    {
      "cell_type": "markdown",
      "id": "8edecfb5",
      "metadata": {
        "papermill": {
          "duration": 0.056549,
          "end_time": "2021-07-11T16:46:09.584596",
          "exception": false,
          "start_time": "2021-07-11T16:46:09.528047",
          "status": "completed"
        },
        "tags": [],
        "id": "8edecfb5"
      },
      "source": [
        "# Gaussian NB"
      ]
    },
    {
      "cell_type": "code",
      "execution_count": 35,
      "id": "c919f70f",
      "metadata": {
        "execution": {
          "iopub.execute_input": "2021-07-11T16:46:09.700257Z",
          "iopub.status.busy": "2021-07-11T16:46:09.699264Z",
          "iopub.status.idle": "2021-07-11T16:46:09.708905Z",
          "shell.execute_reply": "2021-07-11T16:46:09.708331Z",
          "shell.execute_reply.started": "2021-07-11T16:39:41.418157Z"
        },
        "papermill": {
          "duration": 0.069431,
          "end_time": "2021-07-11T16:46:09.709070",
          "exception": false,
          "start_time": "2021-07-11T16:46:09.639639",
          "status": "completed"
        },
        "tags": [],
        "colab": {
          "base_uri": "https://localhost:8080/",
          "height": 74
        },
        "id": "c919f70f",
        "outputId": "ab4774af-c5c5-4f18-e525-2df71d670044"
      },
      "outputs": [
        {
          "output_type": "execute_result",
          "data": {
            "text/plain": [
              "GaussianNB()"
            ],
            "text/html": [
              "<style>#sk-container-id-5 {color: black;background-color: white;}#sk-container-id-5 pre{padding: 0;}#sk-container-id-5 div.sk-toggleable {background-color: white;}#sk-container-id-5 label.sk-toggleable__label {cursor: pointer;display: block;width: 100%;margin-bottom: 0;padding: 0.3em;box-sizing: border-box;text-align: center;}#sk-container-id-5 label.sk-toggleable__label-arrow:before {content: \"▸\";float: left;margin-right: 0.25em;color: #696969;}#sk-container-id-5 label.sk-toggleable__label-arrow:hover:before {color: black;}#sk-container-id-5 div.sk-estimator:hover label.sk-toggleable__label-arrow:before {color: black;}#sk-container-id-5 div.sk-toggleable__content {max-height: 0;max-width: 0;overflow: hidden;text-align: left;background-color: #f0f8ff;}#sk-container-id-5 div.sk-toggleable__content pre {margin: 0.2em;color: black;border-radius: 0.25em;background-color: #f0f8ff;}#sk-container-id-5 input.sk-toggleable__control:checked~div.sk-toggleable__content {max-height: 200px;max-width: 100%;overflow: auto;}#sk-container-id-5 input.sk-toggleable__control:checked~label.sk-toggleable__label-arrow:before {content: \"▾\";}#sk-container-id-5 div.sk-estimator input.sk-toggleable__control:checked~label.sk-toggleable__label {background-color: #d4ebff;}#sk-container-id-5 div.sk-label input.sk-toggleable__control:checked~label.sk-toggleable__label {background-color: #d4ebff;}#sk-container-id-5 input.sk-hidden--visually {border: 0;clip: rect(1px 1px 1px 1px);clip: rect(1px, 1px, 1px, 1px);height: 1px;margin: -1px;overflow: hidden;padding: 0;position: absolute;width: 1px;}#sk-container-id-5 div.sk-estimator {font-family: monospace;background-color: #f0f8ff;border: 1px dotted black;border-radius: 0.25em;box-sizing: border-box;margin-bottom: 0.5em;}#sk-container-id-5 div.sk-estimator:hover {background-color: #d4ebff;}#sk-container-id-5 div.sk-parallel-item::after {content: \"\";width: 100%;border-bottom: 1px solid gray;flex-grow: 1;}#sk-container-id-5 div.sk-label:hover label.sk-toggleable__label {background-color: #d4ebff;}#sk-container-id-5 div.sk-serial::before {content: \"\";position: absolute;border-left: 1px solid gray;box-sizing: border-box;top: 0;bottom: 0;left: 50%;z-index: 0;}#sk-container-id-5 div.sk-serial {display: flex;flex-direction: column;align-items: center;background-color: white;padding-right: 0.2em;padding-left: 0.2em;position: relative;}#sk-container-id-5 div.sk-item {position: relative;z-index: 1;}#sk-container-id-5 div.sk-parallel {display: flex;align-items: stretch;justify-content: center;background-color: white;position: relative;}#sk-container-id-5 div.sk-item::before, #sk-container-id-5 div.sk-parallel-item::before {content: \"\";position: absolute;border-left: 1px solid gray;box-sizing: border-box;top: 0;bottom: 0;left: 50%;z-index: -1;}#sk-container-id-5 div.sk-parallel-item {display: flex;flex-direction: column;z-index: 1;position: relative;background-color: white;}#sk-container-id-5 div.sk-parallel-item:first-child::after {align-self: flex-end;width: 50%;}#sk-container-id-5 div.sk-parallel-item:last-child::after {align-self: flex-start;width: 50%;}#sk-container-id-5 div.sk-parallel-item:only-child::after {width: 0;}#sk-container-id-5 div.sk-dashed-wrapped {border: 1px dashed gray;margin: 0 0.4em 0.5em 0.4em;box-sizing: border-box;padding-bottom: 0.4em;background-color: white;}#sk-container-id-5 div.sk-label label {font-family: monospace;font-weight: bold;display: inline-block;line-height: 1.2em;}#sk-container-id-5 div.sk-label-container {text-align: center;}#sk-container-id-5 div.sk-container {/* jupyter's `normalize.less` sets `[hidden] { display: none; }` but bootstrap.min.css set `[hidden] { display: none !important; }` so we also need the `!important` here to be able to override the default hidden behavior on the sphinx rendered scikit-learn.org. See: https://github.com/scikit-learn/scikit-learn/issues/21755 */display: inline-block !important;position: relative;}#sk-container-id-5 div.sk-text-repr-fallback {display: none;}</style><div id=\"sk-container-id-5\" class=\"sk-top-container\"><div class=\"sk-text-repr-fallback\"><pre>GaussianNB()</pre><b>In a Jupyter environment, please rerun this cell to show the HTML representation or trust the notebook. <br />On GitHub, the HTML representation is unable to render, please try loading this page with nbviewer.org.</b></div><div class=\"sk-container\" hidden><div class=\"sk-item\"><div class=\"sk-estimator sk-toggleable\"><input class=\"sk-toggleable__control sk-hidden--visually\" id=\"sk-estimator-id-5\" type=\"checkbox\" checked><label for=\"sk-estimator-id-5\" class=\"sk-toggleable__label sk-toggleable__label-arrow\">GaussianNB</label><div class=\"sk-toggleable__content\"><pre>GaussianNB()</pre></div></div></div></div></div>"
            ]
          },
          "metadata": {},
          "execution_count": 35
        }
      ],
      "source": [
        "from sklearn.naive_bayes import GaussianNB\n",
        "clsfr_GNB = GaussianNB()\n",
        "clsfr_GNB.fit(x_trn,y_trn)"
      ]
    },
    {
      "cell_type": "code",
      "execution_count": 36,
      "id": "7e800dcb",
      "metadata": {
        "execution": {
          "iopub.execute_input": "2021-07-11T16:46:09.834552Z",
          "iopub.status.busy": "2021-07-11T16:46:09.830646Z",
          "iopub.status.idle": "2021-07-11T16:46:09.862157Z",
          "shell.execute_reply": "2021-07-11T16:46:09.862673Z",
          "shell.execute_reply.started": "2021-07-11T16:45:21.532051Z"
        },
        "papermill": {
          "duration": 0.096917,
          "end_time": "2021-07-11T16:46:09.862847",
          "exception": false,
          "start_time": "2021-07-11T16:46:09.765930",
          "status": "completed"
        },
        "tags": [],
        "colab": {
          "base_uri": "https://localhost:8080/"
        },
        "id": "7e800dcb",
        "outputId": "174827ea-2145-4ae8-f23f-9f96bbfeafab"
      },
      "outputs": [
        {
          "output_type": "stream",
          "name": "stdout",
          "text": [
            "The Model_Accuracy is 0.7704918032786885\n",
            "[[188   0]\n",
            " [ 56   0]]\n",
            "[0.74358974 0.71794872 0.73684211 0.73684211 0.73684211 0.73684211\n",
            " 0.73684211 0.73684211]\n"
          ]
        }
      ],
      "source": [
        "#Train\n",
        "from sklearn.metrics import confusion_matrix\n",
        "GNB_prdct= clsfr_GNB.predict(x_trn)\n",
        "cnfm= confusion_matrix(y_trn,GNB_prdct )\n",
        "scr_GNB= metrics.accuracy_score(y_trn,GNB_prdct)\n",
        "print(\"The Model_Accuracy is\", scr_GNB)\n",
        "print(cnfm)\n",
        "print(cross_val_score(clsfr_GNB,x,y,cv=8))  #perform cross validation"
      ]
    },
    {
      "cell_type": "code",
      "execution_count": 37,
      "id": "0ae9005b",
      "metadata": {
        "execution": {
          "iopub.execute_input": "2021-07-11T16:46:09.983290Z",
          "iopub.status.busy": "2021-07-11T16:46:09.982593Z",
          "iopub.status.idle": "2021-07-11T16:46:09.992290Z",
          "shell.execute_reply": "2021-07-11T16:46:09.991771Z",
          "shell.execute_reply.started": "2021-07-11T16:41:38.680774Z"
        },
        "papermill": {
          "duration": 0.069451,
          "end_time": "2021-07-11T16:46:09.992440",
          "exception": false,
          "start_time": "2021-07-11T16:46:09.922989",
          "status": "completed"
        },
        "tags": [],
        "colab": {
          "base_uri": "https://localhost:8080/"
        },
        "id": "0ae9005b",
        "outputId": "b0328e92-a5ec-48f1-f637-42a0d278d8ff"
      },
      "outputs": [
        {
          "output_type": "stream",
          "name": "stdout",
          "text": [
            "The Model_Accuracy is 0.6290322580645161\n",
            "[[35  2]\n",
            " [21  4]]\n"
          ]
        }
      ],
      "source": [
        "#Test\n",
        "GNB_prdct= clsfr_rndm.predict(x_tst)\n",
        "cnfm= confusion_matrix(y_tst, GNB_prdct)\n",
        "scr_GNB_1= metrics.accuracy_score(y_tst,GNB_prdct)\n",
        "print(\"The Model_Accuracy is\", scr_GNB_1)\n",
        "print(cnfm)"
      ]
    },
    {
      "cell_type": "markdown",
      "id": "981fcdf8",
      "metadata": {
        "papermill": {
          "duration": 0.057093,
          "end_time": "2021-07-11T16:46:10.108009",
          "exception": false,
          "start_time": "2021-07-11T16:46:10.050916",
          "status": "completed"
        },
        "tags": [],
        "id": "981fcdf8"
      },
      "source": [
        "# Pretty Table"
      ]
    },
    {
      "cell_type": "code",
      "execution_count": 38,
      "id": "c4a769dd",
      "metadata": {
        "execution": {
          "iopub.execute_input": "2021-07-11T16:46:10.228121Z",
          "iopub.status.busy": "2021-07-11T16:46:10.227164Z",
          "iopub.status.idle": "2021-07-11T16:46:10.237223Z",
          "shell.execute_reply": "2021-07-11T16:46:10.236463Z",
          "shell.execute_reply.started": "2021-07-11T16:45:26.919508Z"
        },
        "papermill": {
          "duration": 0.070217,
          "end_time": "2021-07-11T16:46:10.237429",
          "exception": false,
          "start_time": "2021-07-11T16:46:10.167212",
          "status": "completed"
        },
        "tags": [],
        "colab": {
          "base_uri": "https://localhost:8080/"
        },
        "id": "c4a769dd",
        "outputId": "03763975-b13e-4e4a-dc3a-ce461001ec7d"
      },
      "outputs": [
        {
          "output_type": "stream",
          "name": "stdout",
          "text": [
            "+----------------+--------------------+--------------------+\n",
            "| Algorithm_Used |   Train_Accuracy   |   Test_Accuracy    |\n",
            "+----------------+--------------------+--------------------+\n",
            "|  gaussian_NB   | 0.7704918032786885 | 0.6290322580645161 |\n",
            "| Support_Vector | 0.7704918032786885 | 0.5967741935483871 |\n",
            "|      KNN       | 0.7868852459016393 | 0.5806451612903226 |\n",
            "| Random_Forest  | 0.889344262295082  | 0.5967741935483871 |\n",
            "| Decision_Tree  | 0.9262295081967213 | 0.5967741935483871 |\n",
            "+----------------+--------------------+--------------------+\n"
          ]
        }
      ],
      "source": [
        "from prettytable import PrettyTable\n",
        "Tbl = PrettyTable([\"Algorithm_Used\", \"Train_Accuracy\",\"Test_Accuracy\"])\n",
        "Tbl.add_row([\"gaussian_NB\", scr_GNB, scr_GNB_1])\n",
        "Tbl.add_row([\"Support_Vector\", scr_svc,scr_svc_1])\n",
        "Tbl.add_row([\" KNN \", scr_knn,scr_knn_1])\n",
        "Tbl.add_row([\"Random_Forest\", scr_rndm, scr_rndm_1])\n",
        "Tbl.add_row([\"Decision_Tree\", scr_tr,scr_tr1])\n",
        "print(Tbl)"
      ]
    },
    {
      "cell_type": "code",
      "execution_count": 38,
      "id": "2e9a6f1d",
      "metadata": {
        "papermill": {
          "duration": 0.058428,
          "end_time": "2021-07-11T16:46:10.355216",
          "exception": false,
          "start_time": "2021-07-11T16:46:10.296788",
          "status": "completed"
        },
        "tags": [],
        "id": "2e9a6f1d"
      },
      "outputs": [],
      "source": []
    }
  ],
  "metadata": {
    "kernelspec": {
      "display_name": "Python 3",
      "language": "python",
      "name": "python3"
    },
    "language_info": {
      "codemirror_mode": {
        "name": "ipython",
        "version": 3
      },
      "file_extension": ".py",
      "mimetype": "text/x-python",
      "name": "python",
      "nbconvert_exporter": "python",
      "pygments_lexer": "ipython3",
      "version": "3.7.10"
    },
    "papermill": {
      "default_parameters": {},
      "duration": 20.871351,
      "end_time": "2021-07-11T16:46:11.227419",
      "environment_variables": {},
      "exception": null,
      "input_path": "__notebook__.ipynb",
      "output_path": "__notebook__.ipynb",
      "parameters": {},
      "start_time": "2021-07-11T16:45:50.356068",
      "version": "2.3.3"
    },
    "colab": {
      "provenance": []
    }
  },
  "nbformat": 4,
  "nbformat_minor": 5
}